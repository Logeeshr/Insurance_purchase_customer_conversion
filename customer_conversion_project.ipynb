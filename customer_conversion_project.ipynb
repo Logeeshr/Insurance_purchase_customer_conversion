{
  "cells": [
    {
      "cell_type": "markdown",
      "metadata": {
        "id": "view-in-github",
        "colab_type": "text"
      },
      "source": [
        "<a href=\"https://colab.research.google.com/github/Logeeshr/Insurance_purchase_customer_conversion/blob/main/customer_conversion_project.ipynb\" target=\"_parent\"><img src=\"https://colab.research.google.com/assets/colab-badge.svg\" alt=\"Open In Colab\"/></a>"
      ]
    },
    {
      "cell_type": "markdown",
      "metadata": {
        "id": "5mauY7XL2uQ2"
      },
      "source": [
        "**Import Dependcies**"
      ]
    },
    {
      "cell_type": "code",
      "execution_count": 111,
      "metadata": {
        "id": "yWfg9TRf2keM"
      },
      "outputs": [],
      "source": [
        "#libraries for data cleaning and EDA\n",
        "import pandas as pd\n",
        "import numpy as np\n",
        "import matplotlib.pyplot as plt\n",
        "import seaborn as sns\n",
        "\n",
        "#library for train test data split and Sacaling\n",
        "from sklearn.model_selection import train_test_split\n",
        "from sklearn.preprocessing import StandardScaler\n",
        "\n",
        "#library for balancing the data\n",
        "from imblearn.combine import SMOTEENN\n",
        "\n",
        "#libraries for Model Building\n",
        "from sklearn.linear_model import LogisticRegression\n",
        "from sklearn.neighbors import KNeighborsClassifier\n",
        "from sklearn.tree import DecisionTreeClassifier \n",
        "from sklearn.ensemble import RandomForestClassifier\n",
        "import xgboost as xgb\n",
        "\n",
        "#libraries for Model Evaluation\n",
        "from sklearn.metrics import accuracy_score \n",
        "from sklearn.metrics import confusion_matrix\n",
        "from sklearn.metrics import precision_score, f1_score, recall_score\n",
        "from sklearn.metrics import classification_report\n",
        "from sklearn.metrics import roc_curve, roc_auc_score\n",
        "\n",
        "\n",
        "import warnings\n",
        "warnings.filterwarnings('ignore')"
      ]
    },
    {
      "cell_type": "markdown",
      "metadata": {
        "id": "Azv1KPh7-fIz"
      },
      "source": [
        "# **DATA CLEANING**"
      ]
    },
    {
      "cell_type": "markdown",
      "metadata": {
        "id": "X1lVbF-z4N1u"
      },
      "source": [
        "**Data Importing**"
      ]
    },
    {
      "cell_type": "code",
      "execution_count": 2,
      "metadata": {
        "id": "LAowdcyBh2cc"
      },
      "outputs": [],
      "source": [
        "cus_df = pd.read_csv(\"/content/customer_conversion.csv\")"
      ]
    },
    {
      "cell_type": "markdown",
      "metadata": {
        "id": "oiykPnrI4asf"
      },
      "source": [
        "**Understanding the Data**"
      ]
    },
    {
      "cell_type": "code",
      "execution_count": 3,
      "metadata": {
        "colab": {
          "base_uri": "https://localhost:8080/",
          "height": 206
        },
        "id": "0mo994luh2fj",
        "outputId": "ff07e2a2-7aaf-4f90-d86d-0a8ebdea2e21"
      },
      "outputs": [
        {
          "output_type": "execute_result",
          "data": {
            "text/plain": [
              "   age           job  marital education_qual call_type  day  mon  dur  \\\n",
              "0   58    management  married       tertiary   unknown    5  may  261   \n",
              "1   44    technician   single      secondary   unknown    5  may  151   \n",
              "2   33  entrepreneur  married      secondary   unknown    5  may   76   \n",
              "3   47   blue-collar  married        unknown   unknown    5  may   92   \n",
              "4   33       unknown   single        unknown   unknown    5  may  198   \n",
              "\n",
              "   num_calls prev_outcome   y  \n",
              "0          1      unknown  no  \n",
              "1          1      unknown  no  \n",
              "2          1      unknown  no  \n",
              "3          1      unknown  no  \n",
              "4          1      unknown  no  "
            ],
            "text/html": [
              "\n",
              "  <div id=\"df-57a942d2-6b9a-4d81-b7ce-2a8a31f08891\">\n",
              "    <div class=\"colab-df-container\">\n",
              "      <div>\n",
              "<style scoped>\n",
              "    .dataframe tbody tr th:only-of-type {\n",
              "        vertical-align: middle;\n",
              "    }\n",
              "\n",
              "    .dataframe tbody tr th {\n",
              "        vertical-align: top;\n",
              "    }\n",
              "\n",
              "    .dataframe thead th {\n",
              "        text-align: right;\n",
              "    }\n",
              "</style>\n",
              "<table border=\"1\" class=\"dataframe\">\n",
              "  <thead>\n",
              "    <tr style=\"text-align: right;\">\n",
              "      <th></th>\n",
              "      <th>age</th>\n",
              "      <th>job</th>\n",
              "      <th>marital</th>\n",
              "      <th>education_qual</th>\n",
              "      <th>call_type</th>\n",
              "      <th>day</th>\n",
              "      <th>mon</th>\n",
              "      <th>dur</th>\n",
              "      <th>num_calls</th>\n",
              "      <th>prev_outcome</th>\n",
              "      <th>y</th>\n",
              "    </tr>\n",
              "  </thead>\n",
              "  <tbody>\n",
              "    <tr>\n",
              "      <th>0</th>\n",
              "      <td>58</td>\n",
              "      <td>management</td>\n",
              "      <td>married</td>\n",
              "      <td>tertiary</td>\n",
              "      <td>unknown</td>\n",
              "      <td>5</td>\n",
              "      <td>may</td>\n",
              "      <td>261</td>\n",
              "      <td>1</td>\n",
              "      <td>unknown</td>\n",
              "      <td>no</td>\n",
              "    </tr>\n",
              "    <tr>\n",
              "      <th>1</th>\n",
              "      <td>44</td>\n",
              "      <td>technician</td>\n",
              "      <td>single</td>\n",
              "      <td>secondary</td>\n",
              "      <td>unknown</td>\n",
              "      <td>5</td>\n",
              "      <td>may</td>\n",
              "      <td>151</td>\n",
              "      <td>1</td>\n",
              "      <td>unknown</td>\n",
              "      <td>no</td>\n",
              "    </tr>\n",
              "    <tr>\n",
              "      <th>2</th>\n",
              "      <td>33</td>\n",
              "      <td>entrepreneur</td>\n",
              "      <td>married</td>\n",
              "      <td>secondary</td>\n",
              "      <td>unknown</td>\n",
              "      <td>5</td>\n",
              "      <td>may</td>\n",
              "      <td>76</td>\n",
              "      <td>1</td>\n",
              "      <td>unknown</td>\n",
              "      <td>no</td>\n",
              "    </tr>\n",
              "    <tr>\n",
              "      <th>3</th>\n",
              "      <td>47</td>\n",
              "      <td>blue-collar</td>\n",
              "      <td>married</td>\n",
              "      <td>unknown</td>\n",
              "      <td>unknown</td>\n",
              "      <td>5</td>\n",
              "      <td>may</td>\n",
              "      <td>92</td>\n",
              "      <td>1</td>\n",
              "      <td>unknown</td>\n",
              "      <td>no</td>\n",
              "    </tr>\n",
              "    <tr>\n",
              "      <th>4</th>\n",
              "      <td>33</td>\n",
              "      <td>unknown</td>\n",
              "      <td>single</td>\n",
              "      <td>unknown</td>\n",
              "      <td>unknown</td>\n",
              "      <td>5</td>\n",
              "      <td>may</td>\n",
              "      <td>198</td>\n",
              "      <td>1</td>\n",
              "      <td>unknown</td>\n",
              "      <td>no</td>\n",
              "    </tr>\n",
              "  </tbody>\n",
              "</table>\n",
              "</div>\n",
              "      <button class=\"colab-df-convert\" onclick=\"convertToInteractive('df-57a942d2-6b9a-4d81-b7ce-2a8a31f08891')\"\n",
              "              title=\"Convert this dataframe to an interactive table.\"\n",
              "              style=\"display:none;\">\n",
              "        \n",
              "  <svg xmlns=\"http://www.w3.org/2000/svg\" height=\"24px\"viewBox=\"0 0 24 24\"\n",
              "       width=\"24px\">\n",
              "    <path d=\"M0 0h24v24H0V0z\" fill=\"none\"/>\n",
              "    <path d=\"M18.56 5.44l.94 2.06.94-2.06 2.06-.94-2.06-.94-.94-2.06-.94 2.06-2.06.94zm-11 1L8.5 8.5l.94-2.06 2.06-.94-2.06-.94L8.5 2.5l-.94 2.06-2.06.94zm10 10l.94 2.06.94-2.06 2.06-.94-2.06-.94-.94-2.06-.94 2.06-2.06.94z\"/><path d=\"M17.41 7.96l-1.37-1.37c-.4-.4-.92-.59-1.43-.59-.52 0-1.04.2-1.43.59L10.3 9.45l-7.72 7.72c-.78.78-.78 2.05 0 2.83L4 21.41c.39.39.9.59 1.41.59.51 0 1.02-.2 1.41-.59l7.78-7.78 2.81-2.81c.8-.78.8-2.07 0-2.86zM5.41 20L4 18.59l7.72-7.72 1.47 1.35L5.41 20z\"/>\n",
              "  </svg>\n",
              "      </button>\n",
              "      \n",
              "  <style>\n",
              "    .colab-df-container {\n",
              "      display:flex;\n",
              "      flex-wrap:wrap;\n",
              "      gap: 12px;\n",
              "    }\n",
              "\n",
              "    .colab-df-convert {\n",
              "      background-color: #E8F0FE;\n",
              "      border: none;\n",
              "      border-radius: 50%;\n",
              "      cursor: pointer;\n",
              "      display: none;\n",
              "      fill: #1967D2;\n",
              "      height: 32px;\n",
              "      padding: 0 0 0 0;\n",
              "      width: 32px;\n",
              "    }\n",
              "\n",
              "    .colab-df-convert:hover {\n",
              "      background-color: #E2EBFA;\n",
              "      box-shadow: 0px 1px 2px rgba(60, 64, 67, 0.3), 0px 1px 3px 1px rgba(60, 64, 67, 0.15);\n",
              "      fill: #174EA6;\n",
              "    }\n",
              "\n",
              "    [theme=dark] .colab-df-convert {\n",
              "      background-color: #3B4455;\n",
              "      fill: #D2E3FC;\n",
              "    }\n",
              "\n",
              "    [theme=dark] .colab-df-convert:hover {\n",
              "      background-color: #434B5C;\n",
              "      box-shadow: 0px 1px 3px 1px rgba(0, 0, 0, 0.15);\n",
              "      filter: drop-shadow(0px 1px 2px rgba(0, 0, 0, 0.3));\n",
              "      fill: #FFFFFF;\n",
              "    }\n",
              "  </style>\n",
              "\n",
              "      <script>\n",
              "        const buttonEl =\n",
              "          document.querySelector('#df-57a942d2-6b9a-4d81-b7ce-2a8a31f08891 button.colab-df-convert');\n",
              "        buttonEl.style.display =\n",
              "          google.colab.kernel.accessAllowed ? 'block' : 'none';\n",
              "\n",
              "        async function convertToInteractive(key) {\n",
              "          const element = document.querySelector('#df-57a942d2-6b9a-4d81-b7ce-2a8a31f08891');\n",
              "          const dataTable =\n",
              "            await google.colab.kernel.invokeFunction('convertToInteractive',\n",
              "                                                     [key], {});\n",
              "          if (!dataTable) return;\n",
              "\n",
              "          const docLinkHtml = 'Like what you see? Visit the ' +\n",
              "            '<a target=\"_blank\" href=https://colab.research.google.com/notebooks/data_table.ipynb>data table notebook</a>'\n",
              "            + ' to learn more about interactive tables.';\n",
              "          element.innerHTML = '';\n",
              "          dataTable['output_type'] = 'display_data';\n",
              "          await google.colab.output.renderOutput(dataTable, element);\n",
              "          const docLink = document.createElement('div');\n",
              "          docLink.innerHTML = docLinkHtml;\n",
              "          element.appendChild(docLink);\n",
              "        }\n",
              "      </script>\n",
              "    </div>\n",
              "  </div>\n",
              "  "
            ]
          },
          "metadata": {},
          "execution_count": 3
        }
      ],
      "source": [
        "cus_df.head()#print first five columns"
      ]
    },
    {
      "cell_type": "code",
      "execution_count": 4,
      "metadata": {
        "colab": {
          "base_uri": "https://localhost:8080/"
        },
        "id": "IV5pfx-sjWEk",
        "outputId": "299a6ccb-8f78-4b97-bcf7-6c57765137ab"
      },
      "outputs": [
        {
          "output_type": "stream",
          "name": "stdout",
          "text": [
            "<class 'pandas.core.frame.DataFrame'>\n",
            "RangeIndex: 45211 entries, 0 to 45210\n",
            "Data columns (total 11 columns):\n",
            " #   Column          Non-Null Count  Dtype \n",
            "---  ------          --------------  ----- \n",
            " 0   age             45211 non-null  int64 \n",
            " 1   job             45211 non-null  object\n",
            " 2   marital         45211 non-null  object\n",
            " 3   education_qual  45211 non-null  object\n",
            " 4   call_type       45211 non-null  object\n",
            " 5   day             45211 non-null  int64 \n",
            " 6   mon             45211 non-null  object\n",
            " 7   dur             45211 non-null  int64 \n",
            " 8   num_calls       45211 non-null  int64 \n",
            " 9   prev_outcome    45211 non-null  object\n",
            " 10  y               45211 non-null  object\n",
            "dtypes: int64(4), object(7)\n",
            "memory usage: 3.8+ MB\n"
          ]
        }
      ],
      "source": [
        "#checking the data type and number of columns\n",
        "cus_df.info()"
      ]
    },
    {
      "cell_type": "code",
      "execution_count": 5,
      "metadata": {
        "colab": {
          "base_uri": "https://localhost:8080/"
        },
        "id": "Q-JYmJVhjpOs",
        "outputId": "9dc28d04-d3df-4719-ff25-e7bddc02cf6b"
      },
      "outputs": [
        {
          "output_type": "stream",
          "name": "stdout",
          "text": [
            "Number of Rows in the dataset:  45211\n",
            "Number of Rows in the dataset:  11\n"
          ]
        }
      ],
      "source": [
        "print(\"Number of Rows in the dataset: \",cus_df.shape[0])\n",
        "print(\"Number of Rows in the dataset: \",cus_df.shape[1])"
      ]
    },
    {
      "cell_type": "code",
      "execution_count": 6,
      "metadata": {
        "colab": {
          "base_uri": "https://localhost:8080/",
          "height": 300
        },
        "id": "2DBBnC-jjtWU",
        "outputId": "553b0147-8516-4196-a611-97d0983d48f2"
      },
      "outputs": [
        {
          "output_type": "execute_result",
          "data": {
            "text/plain": [
              "                age           day           dur     num_calls\n",
              "count  45211.000000  45211.000000  45211.000000  45211.000000\n",
              "mean      40.936210     15.806419    258.163080      2.763841\n",
              "std       10.618762      8.322476    257.527812      3.098021\n",
              "min       18.000000      1.000000      0.000000      1.000000\n",
              "25%       33.000000      8.000000    103.000000      1.000000\n",
              "50%       39.000000     16.000000    180.000000      2.000000\n",
              "75%       48.000000     21.000000    319.000000      3.000000\n",
              "max       95.000000     31.000000   4918.000000     63.000000"
            ],
            "text/html": [
              "\n",
              "  <div id=\"df-7b5d68e3-ca06-4777-9948-c7d2049b6a42\">\n",
              "    <div class=\"colab-df-container\">\n",
              "      <div>\n",
              "<style scoped>\n",
              "    .dataframe tbody tr th:only-of-type {\n",
              "        vertical-align: middle;\n",
              "    }\n",
              "\n",
              "    .dataframe tbody tr th {\n",
              "        vertical-align: top;\n",
              "    }\n",
              "\n",
              "    .dataframe thead th {\n",
              "        text-align: right;\n",
              "    }\n",
              "</style>\n",
              "<table border=\"1\" class=\"dataframe\">\n",
              "  <thead>\n",
              "    <tr style=\"text-align: right;\">\n",
              "      <th></th>\n",
              "      <th>age</th>\n",
              "      <th>day</th>\n",
              "      <th>dur</th>\n",
              "      <th>num_calls</th>\n",
              "    </tr>\n",
              "  </thead>\n",
              "  <tbody>\n",
              "    <tr>\n",
              "      <th>count</th>\n",
              "      <td>45211.000000</td>\n",
              "      <td>45211.000000</td>\n",
              "      <td>45211.000000</td>\n",
              "      <td>45211.000000</td>\n",
              "    </tr>\n",
              "    <tr>\n",
              "      <th>mean</th>\n",
              "      <td>40.936210</td>\n",
              "      <td>15.806419</td>\n",
              "      <td>258.163080</td>\n",
              "      <td>2.763841</td>\n",
              "    </tr>\n",
              "    <tr>\n",
              "      <th>std</th>\n",
              "      <td>10.618762</td>\n",
              "      <td>8.322476</td>\n",
              "      <td>257.527812</td>\n",
              "      <td>3.098021</td>\n",
              "    </tr>\n",
              "    <tr>\n",
              "      <th>min</th>\n",
              "      <td>18.000000</td>\n",
              "      <td>1.000000</td>\n",
              "      <td>0.000000</td>\n",
              "      <td>1.000000</td>\n",
              "    </tr>\n",
              "    <tr>\n",
              "      <th>25%</th>\n",
              "      <td>33.000000</td>\n",
              "      <td>8.000000</td>\n",
              "      <td>103.000000</td>\n",
              "      <td>1.000000</td>\n",
              "    </tr>\n",
              "    <tr>\n",
              "      <th>50%</th>\n",
              "      <td>39.000000</td>\n",
              "      <td>16.000000</td>\n",
              "      <td>180.000000</td>\n",
              "      <td>2.000000</td>\n",
              "    </tr>\n",
              "    <tr>\n",
              "      <th>75%</th>\n",
              "      <td>48.000000</td>\n",
              "      <td>21.000000</td>\n",
              "      <td>319.000000</td>\n",
              "      <td>3.000000</td>\n",
              "    </tr>\n",
              "    <tr>\n",
              "      <th>max</th>\n",
              "      <td>95.000000</td>\n",
              "      <td>31.000000</td>\n",
              "      <td>4918.000000</td>\n",
              "      <td>63.000000</td>\n",
              "    </tr>\n",
              "  </tbody>\n",
              "</table>\n",
              "</div>\n",
              "      <button class=\"colab-df-convert\" onclick=\"convertToInteractive('df-7b5d68e3-ca06-4777-9948-c7d2049b6a42')\"\n",
              "              title=\"Convert this dataframe to an interactive table.\"\n",
              "              style=\"display:none;\">\n",
              "        \n",
              "  <svg xmlns=\"http://www.w3.org/2000/svg\" height=\"24px\"viewBox=\"0 0 24 24\"\n",
              "       width=\"24px\">\n",
              "    <path d=\"M0 0h24v24H0V0z\" fill=\"none\"/>\n",
              "    <path d=\"M18.56 5.44l.94 2.06.94-2.06 2.06-.94-2.06-.94-.94-2.06-.94 2.06-2.06.94zm-11 1L8.5 8.5l.94-2.06 2.06-.94-2.06-.94L8.5 2.5l-.94 2.06-2.06.94zm10 10l.94 2.06.94-2.06 2.06-.94-2.06-.94-.94-2.06-.94 2.06-2.06.94z\"/><path d=\"M17.41 7.96l-1.37-1.37c-.4-.4-.92-.59-1.43-.59-.52 0-1.04.2-1.43.59L10.3 9.45l-7.72 7.72c-.78.78-.78 2.05 0 2.83L4 21.41c.39.39.9.59 1.41.59.51 0 1.02-.2 1.41-.59l7.78-7.78 2.81-2.81c.8-.78.8-2.07 0-2.86zM5.41 20L4 18.59l7.72-7.72 1.47 1.35L5.41 20z\"/>\n",
              "  </svg>\n",
              "      </button>\n",
              "      \n",
              "  <style>\n",
              "    .colab-df-container {\n",
              "      display:flex;\n",
              "      flex-wrap:wrap;\n",
              "      gap: 12px;\n",
              "    }\n",
              "\n",
              "    .colab-df-convert {\n",
              "      background-color: #E8F0FE;\n",
              "      border: none;\n",
              "      border-radius: 50%;\n",
              "      cursor: pointer;\n",
              "      display: none;\n",
              "      fill: #1967D2;\n",
              "      height: 32px;\n",
              "      padding: 0 0 0 0;\n",
              "      width: 32px;\n",
              "    }\n",
              "\n",
              "    .colab-df-convert:hover {\n",
              "      background-color: #E2EBFA;\n",
              "      box-shadow: 0px 1px 2px rgba(60, 64, 67, 0.3), 0px 1px 3px 1px rgba(60, 64, 67, 0.15);\n",
              "      fill: #174EA6;\n",
              "    }\n",
              "\n",
              "    [theme=dark] .colab-df-convert {\n",
              "      background-color: #3B4455;\n",
              "      fill: #D2E3FC;\n",
              "    }\n",
              "\n",
              "    [theme=dark] .colab-df-convert:hover {\n",
              "      background-color: #434B5C;\n",
              "      box-shadow: 0px 1px 3px 1px rgba(0, 0, 0, 0.15);\n",
              "      filter: drop-shadow(0px 1px 2px rgba(0, 0, 0, 0.3));\n",
              "      fill: #FFFFFF;\n",
              "    }\n",
              "  </style>\n",
              "\n",
              "      <script>\n",
              "        const buttonEl =\n",
              "          document.querySelector('#df-7b5d68e3-ca06-4777-9948-c7d2049b6a42 button.colab-df-convert');\n",
              "        buttonEl.style.display =\n",
              "          google.colab.kernel.accessAllowed ? 'block' : 'none';\n",
              "\n",
              "        async function convertToInteractive(key) {\n",
              "          const element = document.querySelector('#df-7b5d68e3-ca06-4777-9948-c7d2049b6a42');\n",
              "          const dataTable =\n",
              "            await google.colab.kernel.invokeFunction('convertToInteractive',\n",
              "                                                     [key], {});\n",
              "          if (!dataTable) return;\n",
              "\n",
              "          const docLinkHtml = 'Like what you see? Visit the ' +\n",
              "            '<a target=\"_blank\" href=https://colab.research.google.com/notebooks/data_table.ipynb>data table notebook</a>'\n",
              "            + ' to learn more about interactive tables.';\n",
              "          element.innerHTML = '';\n",
              "          dataTable['output_type'] = 'display_data';\n",
              "          await google.colab.output.renderOutput(dataTable, element);\n",
              "          const docLink = document.createElement('div');\n",
              "          docLink.innerHTML = docLinkHtml;\n",
              "          element.appendChild(docLink);\n",
              "        }\n",
              "      </script>\n",
              "    </div>\n",
              "  </div>\n",
              "  "
            ]
          },
          "metadata": {},
          "execution_count": 6
        }
      ],
      "source": [
        "#statistical Information about numerical columns\n",
        "cus_df.describe()"
      ]
    },
    {
      "cell_type": "code",
      "execution_count": 7,
      "metadata": {
        "colab": {
          "base_uri": "https://localhost:8080/"
        },
        "id": "g2RdLy2ujv7E",
        "outputId": "64f559c0-2654-48b0-a8e3-083c48c7f399"
      },
      "outputs": [
        {
          "output_type": "stream",
          "name": "stdout",
          "text": [
            "categorical columns:  ['job', 'marital', 'education_qual', 'call_type', 'mon', 'prev_outcome', 'y']\n",
            "Numcerical columns:  ['age', 'day', 'dur', 'num_calls']\n"
          ]
        }
      ],
      "source": [
        "#categorical columns\n",
        "cus_df_cat = cus_df.select_dtypes(include = object)\n",
        "cus_df_cat = cus_df_cat.columns.tolist()\n",
        "print('categorical columns: ',cus_df_cat)\n",
        "\n",
        "#Numerical columns\n",
        "cus_df_num = cus_df.select_dtypes(exclude = object)\n",
        "cus_df_num = cus_df_num.columns.tolist()\n",
        "print('Numcerical columns: ',cus_df_num)\n"
      ]
    },
    {
      "cell_type": "code",
      "execution_count": 8,
      "metadata": {
        "colab": {
          "base_uri": "https://localhost:8080/"
        },
        "id": "QMmbMRxhk6U8",
        "outputId": "774b62a7-0d73-4e17-cb5f-c882144ccd25"
      },
      "outputs": [
        {
          "output_type": "stream",
          "name": "stdout",
          "text": [
            "job: ['management' 'technician' 'entrepreneur' 'blue-collar' 'unknown'\n",
            " 'retired' 'admin.' 'services' 'self-employed' 'unemployed' 'housemaid'\n",
            " 'student'] \n",
            "\n",
            "marital: ['married' 'single' 'divorced'] \n",
            "\n",
            "education_qual: ['tertiary' 'secondary' 'unknown' 'primary'] \n",
            "\n",
            "call_type: ['unknown' 'cellular' 'telephone'] \n",
            "\n",
            "mon: ['may' 'jun' 'jul' 'aug' 'oct' 'nov' 'dec' 'jan' 'feb' 'mar' 'apr' 'sep'] \n",
            "\n",
            "prev_outcome: ['unknown' 'failure' 'other' 'success'] \n",
            "\n",
            "y: ['no' 'yes'] \n",
            "\n"
          ]
        }
      ],
      "source": [
        "#unique values in categorical columns\n",
        "for i in cus_df_cat:\n",
        "  print(f'{i}'+ \":\",cus_df[i].unique(),'\\n')"
      ]
    },
    {
      "cell_type": "code",
      "execution_count": 9,
      "metadata": {
        "colab": {
          "base_uri": "https://localhost:8080/"
        },
        "id": "mwRZ5PeVmg3j",
        "outputId": "8dd3cf1a-00a0-4fde-dbf0-03e2df14efd8"
      },
      "outputs": [
        {
          "output_type": "execute_result",
          "data": {
            "text/plain": [
              "6"
            ]
          },
          "metadata": {},
          "execution_count": 9
        }
      ],
      "source": [
        "#number of duplicates in data\n",
        "cus_df.duplicated().sum()"
      ]
    },
    {
      "cell_type": "code",
      "execution_count": 10,
      "metadata": {
        "colab": {
          "base_uri": "https://localhost:8080/"
        },
        "id": "bD-u575nnFqE",
        "outputId": "641b3c9a-b7eb-4d94-b743-1046db66a79c"
      },
      "outputs": [
        {
          "output_type": "stream",
          "name": "stdout",
          "text": [
            "Now the dataset has 45205 rows and 11 columns after dropping duplicates\n"
          ]
        }
      ],
      "source": [
        "#we have only 6 duplicates so decided to drop the duplicates\n",
        "cus_df = cus_df.drop_duplicates()\n",
        "print(\"Now the dataset has {} rows and {} columns after dropping duplicates\".format(cus_df.shape[0], cus_df.shape[1]))"
      ]
    },
    {
      "cell_type": "markdown",
      "metadata": {
        "id": "zNFxjtu-wF6e"
      },
      "source": [
        "**Target column**"
      ]
    },
    {
      "cell_type": "code",
      "execution_count": 11,
      "metadata": {
        "colab": {
          "base_uri": "https://localhost:8080/"
        },
        "id": "-GWiySWkptBz",
        "outputId": "0d0c41fa-c4a9-45fd-9622-90d24248eeb3"
      },
      "outputs": [
        {
          "output_type": "stream",
          "name": "stdout",
          "text": [
            "Class No: 39916\n",
            "Class yes: 5289\n",
            "The percentage of data where insurance is not given: 88.29996681782988\n"
          ]
        }
      ],
      "source": [
        "target_count = cus_df['y'].value_counts()\n",
        "print('Class No:',  target_count[0])\n",
        "print('Class yes:',  target_count[1])\n",
        "print(\"The percentage of data where insurance is not given:\", ((cus_df['y']=='no').sum()/cus_df.shape[0])*100)"
      ]
    },
    {
      "cell_type": "code",
      "execution_count": 12,
      "metadata": {
        "colab": {
          "base_uri": "https://localhost:8080/",
          "height": 279
        },
        "id": "2y0a6DZgxOPE",
        "outputId": "8d778930-ea9a-4309-ae0c-8c27178c9886"
      },
      "outputs": [
        {
          "output_type": "display_data",
          "data": {
            "text/plain": [
              "<Figure size 432x288 with 1 Axes>"
            ],
            "image/png": "[encoded data removed]"
          },
          "metadata": {
            "needs_background": "light"
          }
        }
      ],
      "source": [
        "sns.countplot('y',data=cus_df)\n",
        "plt.show()"
      ]
    },
    {
      "cell_type": "markdown",
      "metadata": {
        "id": "aekks5rtzhfa"
      },
      "source": [
        "1. Since, more than 70% of target data is 'no', it is an imbalanced learning problem.\n",
        "2. So, we will use 'Cluster-Centroid Undersampling' or 'SMOTE Oversampling'. (else. 'SMOTEEN')."
      ]
    },
    {
      "cell_type": "code",
      "execution_count": 13,
      "metadata": {
        "colab": {
          "base_uri": "https://localhost:8080/"
        },
        "id": "BPB1a4cdyCWE",
        "outputId": "511f143e-7aa8-46fe-c024-9052c8d7d766"
      },
      "outputs": [
        {
          "output_type": "stream",
          "name": "stdout",
          "text": [
            "The percentage of data where insurance is not given: 88.29996681782988\n"
          ]
        }
      ],
      "source": [
        "print(\"The percentage of data where insurance is not given:\", ((cus_df['y']=='no').sum()/cus_df.shape[0])*100)"
      ]
    },
    {
      "cell_type": "markdown",
      "metadata": {
        "id": "IdjIB6JH08rT"
      },
      "source": [
        "**AGE** - Column"
      ]
    },
    {
      "cell_type": "code",
      "execution_count": 14,
      "metadata": {
        "colab": {
          "base_uri": "https://localhost:8080/"
        },
        "id": "gchKe_ygymfD",
        "outputId": "481f61a8-5216-4334-fded-a8b178fb02a0"
      },
      "outputs": [
        {
          "output_type": "execute_result",
          "data": {
            "text/plain": [
              "0"
            ]
          },
          "metadata": {},
          "execution_count": 14
        }
      ],
      "source": [
        "#checking for null values\n",
        "cus_df['age'].isnull().sum()"
      ]
    },
    {
      "cell_type": "code",
      "execution_count": 15,
      "metadata": {
        "id": "7WGSwPgDuvnY"
      },
      "outputs": [],
      "source": [
        "#converting the datatype\n",
        "cus_df['age'] = cus_df['age'].astype('int64')"
      ]
    },
    {
      "cell_type": "code",
      "execution_count": 16,
      "metadata": {
        "id": "IvOhj-0NIAeS"
      },
      "outputs": [],
      "source": [
        "cus_df['age'] = cus_df['age'].astype(int)"
      ]
    },
    {
      "cell_type": "code",
      "execution_count": 17,
      "metadata": {
        "colab": {
          "base_uri": "https://localhost:8080/",
          "height": 312
        },
        "id": "qxkHucDJ1F-S",
        "outputId": "7eb50712-0532-483c-e7a5-701bfc257342"
      },
      "outputs": [
        {
          "output_type": "execute_result",
          "data": {
            "text/plain": [
              "Text(0.5, 1.0, 'Checking outliers')"
            ]
          },
          "metadata": {},
          "execution_count": 17
        },
        {
          "output_type": "display_data",
          "data": {
            "text/plain": [
              "<Figure size 432x288 with 1 Axes>"
            ],
            "image/png": "[encoded data removed]"
          },
          "metadata": {
            "needs_background": "light"
          }
        }
      ],
      "source": [
        "#plot for checking outliers\n",
        "sns.boxplot('age',data=cus_df)\n",
        "plt.title(\"Checking outliers\",)"
      ]
    },
    {
      "cell_type": "code",
      "execution_count": 18,
      "metadata": {
        "id": "NttfP7nZ1b9T"
      },
      "outputs": [],
      "source": [
        "def detect_outliers(dataframe, column):\n",
        "    Q1 = dataframe[column].quantile(0.25)\n",
        "    Q3 = dataframe[column].quantile(0.75)\n",
        "    IQR = Q3 - Q1\n",
        "    lower_fence = Q1 - 1.5*(IQR)\n",
        "    upper_fence = Q3 + 1.5*(IQR)\n",
        "    total_outliers = dataframe.loc[(dataframe[column] < lower_fence) | (dataframe[column] > upper_fence)]\n",
        "    \n",
        "    print(\"LowerFence: {}, UpperFence: {}\\n{} Outliers present in {}\".format(lower_fence, upper_fence, len(total_outliers), column))"
      ]
    },
    {
      "cell_type": "code",
      "execution_count": 19,
      "metadata": {
        "colab": {
          "base_uri": "https://localhost:8080/"
        },
        "id": "oucqnwf4159w",
        "outputId": "8a0b8792-2882-400c-99e2-a14e82167cc4"
      },
      "outputs": [
        {
          "output_type": "stream",
          "name": "stdout",
          "text": [
            "LowerFence: 10.5, UpperFence: 70.5\n",
            "487 Outliers present in age\n"
          ]
        }
      ],
      "source": [
        "detect_outliers(cus_df,'age')"
      ]
    },
    {
      "cell_type": "code",
      "execution_count": 20,
      "metadata": {
        "id": "1c9pRfLi4mMl"
      },
      "outputs": [],
      "source": [
        "def clip_outliers(dataframe, column):\n",
        "    Q1 = dataframe[column].quantile(0.25)\n",
        "    Q3 = dataframe[column].quantile(0.75)\n",
        "    IQR = Q3 - Q1\n",
        "    lower_fence = Q1 - 1.5*(IQR)\n",
        "    upper_fence = Q3 + 1.5*(IQR)\n",
        "    dataframe[column] = dataframe[column].clip(lower_fence, upper_fence)"
      ]
    },
    {
      "cell_type": "code",
      "execution_count": 21,
      "metadata": {
        "id": "Zofsy2qA4pk0"
      },
      "outputs": [],
      "source": [
        "#cliping the outliers\n",
        "clip_outliers(cus_df,'age')"
      ]
    },
    {
      "cell_type": "code",
      "execution_count": 22,
      "metadata": {
        "colab": {
          "base_uri": "https://localhost:8080/",
          "height": 295
        },
        "id": "kZEVcK004sFj",
        "outputId": "51935078-0f98-4a8a-c5cb-f980cf8a924b"
      },
      "outputs": [
        {
          "output_type": "display_data",
          "data": {
            "text/plain": [
              "<Figure size 432x288 with 1 Axes>"
            ],
            "image/png": "[encoded data removed]"
          },
          "metadata": {
            "needs_background": "light"
          }
        }
      ],
      "source": [
        "#boxplot after cliping outliers\n",
        "sns.boxplot(cus_df['age'])\n",
        "plt.title(\"Checking outliers after clipping\",)\n",
        "plt.show()"
      ]
    },
    {
      "cell_type": "markdown",
      "metadata": {
        "id": "TxLWCwGr6Ufa"
      },
      "source": [
        "**Job** -- column"
      ]
    },
    {
      "cell_type": "code",
      "execution_count": 23,
      "metadata": {
        "colab": {
          "base_uri": "https://localhost:8080/"
        },
        "id": "jllZbgCw6TMT",
        "outputId": "b793cb42-ead9-4d1e-b1ca-3f53557c1d4b"
      },
      "outputs": [
        {
          "output_type": "execute_result",
          "data": {
            "text/plain": [
              "array(['management', 'technician', 'entrepreneur', 'blue-collar',\n",
              "       'unknown', 'retired', 'admin.', 'services', 'self-employed',\n",
              "       'unemployed', 'housemaid', 'student'], dtype=object)"
            ]
          },
          "metadata": {},
          "execution_count": 23
        }
      ],
      "source": [
        "#unique values in job column\n",
        "cus_df['job'].unique()"
      ]
    },
    {
      "cell_type": "code",
      "execution_count": 24,
      "metadata": {
        "colab": {
          "base_uri": "https://localhost:8080/"
        },
        "id": "k_KY_jMm41fS",
        "outputId": "462a3e81-b473-41c2-a03f-a7d92e2897e1"
      },
      "outputs": [
        {
          "output_type": "execute_result",
          "data": {
            "text/plain": [
              "288"
            ]
          },
          "metadata": {},
          "execution_count": 24
        }
      ],
      "source": [
        "#No. of rows have unknown values\n",
        "(cus_df['job']=='unknown').sum()"
      ]
    },
    {
      "cell_type": "code",
      "execution_count": 25,
      "metadata": {
        "colab": {
          "base_uri": "https://localhost:8080/"
        },
        "id": "jCk_WzAK7IuU",
        "outputId": "d4621516-c447-40e3-87bb-5c2b552a9109"
      },
      "outputs": [
        {
          "output_type": "stream",
          "name": "stdout",
          "text": [
            "The percentage of unknown data is: 0.6370976661873686\n"
          ]
        }
      ],
      "source": [
        "print(\"The percentage of unknown data is:\", ((cus_df['job']=='unknown').sum()/cus_df.shape[0])*100)"
      ]
    },
    {
      "cell_type": "markdown",
      "metadata": {
        "id": "Gd8z1jz57dni"
      },
      "source": [
        "Only 0.6% of data is unknown in the job feature is unknown, so i decided to drop the unknown values in the feature"
      ]
    },
    {
      "cell_type": "code",
      "execution_count": 26,
      "metadata": {
        "id": "atBbW-eq7dL7"
      },
      "outputs": [],
      "source": [
        "cus_df = cus_df.drop(cus_df[cus_df['job']=='unknown'].index).reset_index(drop=True)"
      ]
    },
    {
      "cell_type": "code",
      "execution_count": 27,
      "metadata": {
        "colab": {
          "base_uri": "https://localhost:8080/"
        },
        "id": "vYyJuRa87Prb",
        "outputId": "8c22a04b-435d-4b1d-d91f-03f63a679bf3"
      },
      "outputs": [
        {
          "output_type": "stream",
          "name": "stdout",
          "text": [
            "Now the dataset has 44917 rows and 11 columns after dropping unknown values in job\n"
          ]
        }
      ],
      "source": [
        "print(\"Now the dataset has {} rows and {} columns after dropping unknown values in job\".format(cus_df.shape[0], cus_df.shape[1]))"
      ]
    },
    {
      "cell_type": "code",
      "execution_count": 28,
      "metadata": {
        "id": "hbIPMq9v8gPr"
      },
      "outputs": [],
      "source": [
        "#Spelling Correction\n",
        "cus_df['job'].replace(\"admin.\",\"admin\",inplace=True)"
      ]
    },
    {
      "cell_type": "code",
      "execution_count": 29,
      "metadata": {
        "colab": {
          "base_uri": "https://localhost:8080/"
        },
        "id": "xxLLxh1b8-4T",
        "outputId": "f04af253-979d-46ab-d1f6-d198db6889cc"
      },
      "outputs": [
        {
          "output_type": "execute_result",
          "data": {
            "text/plain": [
              "blue-collar      9730\n",
              "management       9457\n",
              "technician       7596\n",
              "admin            5170\n",
              "services         4153\n",
              "retired          2264\n",
              "self-employed    1579\n",
              "entrepreneur     1487\n",
              "unemployed       1303\n",
              "housemaid        1240\n",
              "student           938\n",
              "Name: job, dtype: int64"
            ]
          },
          "metadata": {},
          "execution_count": 29
        }
      ],
      "source": [
        "#value count for each type of job\n",
        "cus_df['job'].value_counts()"
      ]
    },
    {
      "cell_type": "code",
      "source": [
        "cus_df['target'] = cus_df['y'].map({\"yes\":1,\"no\":0})"
      ],
      "metadata": {
        "id": "p6jpKLznr8zH"
      },
      "execution_count": 30,
      "outputs": []
    },
    {
      "cell_type": "code",
      "source": [
        "cus_df.groupby('job')['target'].mean()"
      ],
      "metadata": {
        "colab": {
          "base_uri": "https://localhost:8080/"
        },
        "id": "8idg1uKHIq0k",
        "outputId": "4ae7c80a-7c86-4e63-a1ca-2423be53d5ee"
      },
      "execution_count": 31,
      "outputs": [
        {
          "output_type": "execute_result",
          "data": {
            "text/plain": [
              "job\n",
              "admin            0.122050\n",
              "blue-collar      0.072765\n",
              "entrepreneur     0.082717\n",
              "housemaid        0.087903\n",
              "management       0.137570\n",
              "retired          0.227915\n",
              "self-employed    0.118429\n",
              "services         0.088851\n",
              "student          0.286780\n",
              "technician       0.110585\n",
              "unemployed       0.155027\n",
              "Name: target, dtype: float64"
            ]
          },
          "metadata": {},
          "execution_count": 31
        }
      ]
    },
    {
      "cell_type": "markdown",
      "source": [
        "Student has higher conversion rate than blue collar jobs and management people who have higher value counts.So targeting the students more would be a better decision"
      ],
      "metadata": {
        "id": "8PW57X9NIvIS"
      }
    },
    {
      "cell_type": "markdown",
      "metadata": {
        "id": "R5GL1WxV_zZ1"
      },
      "source": [
        "**Marital** -- Column"
      ]
    },
    {
      "cell_type": "code",
      "execution_count": 32,
      "metadata": {
        "colab": {
          "base_uri": "https://localhost:8080/"
        },
        "id": "BEmoPjNfAKuS",
        "outputId": "0935d4f9-68a3-4d32-d150-36f0c8f132ec"
      },
      "outputs": [
        {
          "output_type": "execute_result",
          "data": {
            "text/plain": [
              "0"
            ]
          },
          "metadata": {},
          "execution_count": 32
        }
      ],
      "source": [
        "#checking the null Values\n",
        "cus_df.marital.isnull().sum()"
      ]
    },
    {
      "cell_type": "code",
      "execution_count": 33,
      "metadata": {
        "colab": {
          "base_uri": "https://localhost:8080/"
        },
        "id": "MIBPZPAo_yYz",
        "outputId": "0781e4da-c581-4c02-ce47-228ade94bcf3"
      },
      "outputs": [
        {
          "output_type": "execute_result",
          "data": {
            "text/plain": [
              "married     27007\n",
              "single      12720\n",
              "divorced     5190\n",
              "Name: marital, dtype: int64"
            ]
          },
          "metadata": {},
          "execution_count": 33
        }
      ],
      "source": [
        "#value count for each kind of marriage\n",
        "cus_df['marital'].value_counts()"
      ]
    },
    {
      "cell_type": "code",
      "source": [
        "cus_df.groupby('marital')['target'].mean()"
      ],
      "metadata": {
        "colab": {
          "base_uri": "https://localhost:8080/"
        },
        "id": "HGqXYlUZISc0",
        "outputId": "f98d4e0f-14cd-4ede-9571-2566f8cc8263"
      },
      "execution_count": 34,
      "outputs": [
        {
          "output_type": "execute_result",
          "data": {
            "text/plain": [
              "marital\n",
              "divorced    0.119653\n",
              "married     0.101233\n",
              "single      0.149371\n",
              "Name: target, dtype: float64"
            ]
          },
          "metadata": {},
          "execution_count": 34
        }
      ]
    },
    {
      "cell_type": "markdown",
      "source": [
        "Conversion rate is higher in single followed by divorced and married people"
      ],
      "metadata": {
        "id": "BoEkF33QIaU5"
      }
    },
    {
      "cell_type": "markdown",
      "metadata": {
        "id": "DVxjTXnaAZXs"
      },
      "source": [
        "**Education_qual** -- Column"
      ]
    },
    {
      "cell_type": "code",
      "execution_count": 35,
      "metadata": {
        "colab": {
          "base_uri": "https://localhost:8080/"
        },
        "id": "ncpYcauEAXsy",
        "outputId": "7ae64a51-dac7-46b1-f016-f93c25451c4e"
      },
      "outputs": [
        {
          "output_type": "execute_result",
          "data": {
            "text/plain": [
              "0"
            ]
          },
          "metadata": {},
          "execution_count": 35
        }
      ],
      "source": [
        "#checking the null Values\n",
        "cus_df['education_qual'].isnull().sum()"
      ]
    },
    {
      "cell_type": "code",
      "execution_count": 36,
      "metadata": {
        "colab": {
          "base_uri": "https://localhost:8080/"
        },
        "id": "qg1Nu-wh9Cz7",
        "outputId": "2c7db518-49ef-4a6a-877a-06f941db0b18"
      },
      "outputs": [
        {
          "output_type": "execute_result",
          "data": {
            "text/plain": [
              "array(['tertiary', 'secondary', 'unknown', 'primary'], dtype=object)"
            ]
          },
          "metadata": {},
          "execution_count": 36
        }
      ],
      "source": [
        "#unique values in education column\n",
        "cus_df['education_qual'].unique()"
      ]
    },
    {
      "cell_type": "code",
      "execution_count": 37,
      "metadata": {
        "colab": {
          "base_uri": "https://localhost:8080/"
        },
        "id": "ShbAQovs97zP",
        "outputId": "976292d9-d261-47a2-97ac-3444385854b6"
      },
      "outputs": [
        {
          "output_type": "execute_result",
          "data": {
            "text/plain": [
              "secondary    23128\n",
              "tertiary     13260\n",
              "primary       6799\n",
              "unknown       1730\n",
              "Name: education_qual, dtype: int64"
            ]
          },
          "metadata": {},
          "execution_count": 37
        }
      ],
      "source": [
        "#value counts in Education Column\n",
        "cus_df['education_qual'].value_counts()"
      ]
    },
    {
      "cell_type": "code",
      "execution_count": 38,
      "metadata": {
        "colab": {
          "base_uri": "https://localhost:8080/"
        },
        "id": "1crmfPIY972O",
        "outputId": "4b624cac-6fb0-4395-cab0-46a48c5b6f77"
      },
      "outputs": [
        {
          "output_type": "stream",
          "name": "stdout",
          "text": [
            "The percentage of unknown data is: 3.8515484115145715\n"
          ]
        }
      ],
      "source": [
        "print(\"The percentage of unknown data is:\", ((cus_df['education_qual']=='unknown').sum() / cus_df.shape[0])*100)"
      ]
    },
    {
      "cell_type": "code",
      "execution_count": 39,
      "metadata": {
        "colab": {
          "base_uri": "https://localhost:8080/"
        },
        "id": "9xbCTMrN9XKL",
        "outputId": "e5e019ba-466c-4de6-945a-164518097002"
      },
      "outputs": [
        {
          "output_type": "execute_result",
          "data": {
            "text/plain": [
              "secondary    23128\n",
              "tertiary     13260\n",
              "primary       6799\n",
              "unknown       1730\n",
              "Name: education_qual, dtype: int64"
            ]
          },
          "metadata": {},
          "execution_count": 39
        }
      ],
      "source": [
        "cus_df['education_qual'].value_counts()"
      ]
    },
    {
      "cell_type": "code",
      "source": [
        "cus_df.groupby('education_qual')['target'].mean()"
      ],
      "metadata": {
        "colab": {
          "base_uri": "https://localhost:8080/"
        },
        "id": "byPFHnr4H4MK",
        "outputId": "e6623e99-b1cf-4782-f2d1-f7b55d1978bd"
      },
      "execution_count": 40,
      "outputs": [
        {
          "output_type": "execute_result",
          "data": {
            "text/plain": [
              "education_qual\n",
              "primary      0.086483\n",
              "secondary    0.105543\n",
              "tertiary     0.150226\n",
              "unknown      0.135260\n",
              "Name: target, dtype: float64"
            ]
          },
          "metadata": {},
          "execution_count": 40
        }
      ]
    },
    {
      "cell_type": "markdown",
      "metadata": {
        "id": "3TMdQmVHEkfj"
      },
      "source": [
        "**Call type** -- Column"
      ]
    },
    {
      "cell_type": "code",
      "execution_count": 41,
      "metadata": {
        "colab": {
          "base_uri": "https://localhost:8080/"
        },
        "id": "i12WF06iCRgD",
        "outputId": "3a8bd764-aa87-479f-967f-7d64f29f054b"
      },
      "outputs": [
        {
          "output_type": "execute_result",
          "data": {
            "text/plain": [
              "0"
            ]
          },
          "metadata": {},
          "execution_count": 41
        }
      ],
      "source": [
        "#checking the null Values\n",
        "cus_df['call_type'].isnull().sum()"
      ]
    },
    {
      "cell_type": "code",
      "execution_count": 42,
      "metadata": {
        "colab": {
          "base_uri": "https://localhost:8080/"
        },
        "id": "aJyW2bVbGmGH",
        "outputId": "1dc43bc4-893c-437e-e4fb-1ca192cec644"
      },
      "outputs": [
        {
          "output_type": "execute_result",
          "data": {
            "text/plain": [
              "cellular     29151\n",
              "unknown      12906\n",
              "telephone     2860\n",
              "Name: call_type, dtype: int64"
            ]
          },
          "metadata": {},
          "execution_count": 42
        }
      ],
      "source": [
        "#unique value and their counts in calltype\n",
        "cus_df['call_type'].value_counts()"
      ]
    },
    {
      "cell_type": "code",
      "execution_count": 43,
      "metadata": {
        "colab": {
          "base_uri": "https://localhost:8080/"
        },
        "id": "1xH5wMa-GmJG",
        "outputId": "97706d58-8db6-44bb-9101-fbd95de87cae"
      },
      "outputs": [
        {
          "output_type": "stream",
          "name": "stdout",
          "text": [
            "The percentage of unknown data is: 28.732996415611016\n"
          ]
        }
      ],
      "source": [
        "print(\"The percentage of unknown data is:\", ((cus_df['call_type']=='unknown').sum()/cus_df.shape[0])*100)"
      ]
    },
    {
      "cell_type": "markdown",
      "source": [
        "Considering the unknown as separate category because percentage of unknown is more so neither imputing with mode nor deleting"
      ],
      "metadata": {
        "id": "0BBlB0QQ-mtg"
      }
    },
    {
      "cell_type": "markdown",
      "metadata": {
        "id": "TMSAsO2zH4TT"
      },
      "source": [
        " **Day** -- Column"
      ]
    },
    {
      "cell_type": "code",
      "execution_count": 44,
      "metadata": {
        "colab": {
          "base_uri": "https://localhost:8080/"
        },
        "id": "itIQ6k3LGmMq",
        "outputId": "9a3ca483-1b86-4863-e775-ab6a2c6be8f3"
      },
      "outputs": [
        {
          "output_type": "execute_result",
          "data": {
            "text/plain": [
              "0"
            ]
          },
          "metadata": {},
          "execution_count": 44
        }
      ],
      "source": [
        "#checking the null Values\n",
        "cus_df.age.isnull().sum()"
      ]
    },
    {
      "cell_type": "markdown",
      "metadata": {
        "id": "j80wY2N5LZu6"
      },
      "source": [
        "**Month** --Column"
      ]
    },
    {
      "cell_type": "code",
      "execution_count": 45,
      "metadata": {
        "colab": {
          "base_uri": "https://localhost:8080/"
        },
        "id": "E3xf97sh8zYf",
        "outputId": "fd2376bb-7487-4972-fd8b-c26dc704f1c1"
      },
      "outputs": [
        {
          "output_type": "execute_result",
          "data": {
            "text/plain": [
              "0"
            ]
          },
          "metadata": {},
          "execution_count": 45
        }
      ],
      "source": [
        "#checking the null Values\n",
        "cus_df.mon.isnull().sum()"
      ]
    },
    {
      "cell_type": "code",
      "execution_count": 46,
      "metadata": {
        "colab": {
          "base_uri": "https://localhost:8080/"
        },
        "id": "oHmpfcDuGmbn",
        "outputId": "0ac78045-524e-468e-a655-2b3cb5541eaf"
      },
      "outputs": [
        {
          "output_type": "execute_result",
          "data": {
            "text/plain": [
              "may    13734\n",
              "jul     6863\n",
              "aug     6182\n",
              "jun     5249\n",
              "nov     3956\n",
              "apr     2925\n",
              "feb     2636\n",
              "jan     1388\n",
              "oct      727\n",
              "sep      570\n",
              "mar      474\n",
              "dec      213\n",
              "Name: mon, dtype: int64"
            ]
          },
          "metadata": {},
          "execution_count": 46
        }
      ],
      "source": [
        "#unique value and their counts in calltype\n",
        "cus_df['mon'].value_counts()"
      ]
    },
    {
      "cell_type": "code",
      "source": [
        "cus_df.groupby('mon')['target'].mean()"
      ],
      "metadata": {
        "colab": {
          "base_uri": "https://localhost:8080/"
        },
        "id": "Ai0wLhXaGMe6",
        "outputId": "73cf2a0e-c3b3-4651-8d96-bb5d429502d1"
      },
      "execution_count": 47,
      "outputs": [
        {
          "output_type": "execute_result",
          "data": {
            "text/plain": [
              "mon\n",
              "apr    0.195214\n",
              "aug    0.110482\n",
              "dec    0.469484\n",
              "feb    0.165781\n",
              "jan    0.100144\n",
              "jul    0.091214\n",
              "jun    0.103829\n",
              "mar    0.521097\n",
              "may    0.067133\n",
              "nov    0.101365\n",
              "oct    0.437414\n",
              "sep    0.466667\n",
              "Name: target, dtype: float64"
            ]
          },
          "metadata": {},
          "execution_count": 47
        }
      ]
    },
    {
      "cell_type": "markdown",
      "source": [
        "**Even the number of calls in December, March, October month is less but the conversion rate is around 50% compared to May and july months where number of calls is 40% percent of data but the coversion rate is low which is less than 10%**"
      ],
      "metadata": {
        "id": "KbfYdSfHGSX8"
      }
    },
    {
      "cell_type": "markdown",
      "metadata": {
        "id": "CvHgCGYkLk3K"
      },
      "source": [
        "**Duration** -- Column"
      ]
    },
    {
      "cell_type": "code",
      "execution_count": 48,
      "metadata": {
        "colab": {
          "base_uri": "https://localhost:8080/"
        },
        "id": "iWtWOj0v9QiO",
        "outputId": "98ef2565-9cc0-4aa6-b033-50bbdcb38232"
      },
      "outputs": [
        {
          "output_type": "execute_result",
          "data": {
            "text/plain": [
              "0"
            ]
          },
          "metadata": {},
          "execution_count": 48
        }
      ],
      "source": [
        "#checking the null Values\n",
        "cus_df.dur.isnull().sum()"
      ]
    },
    {
      "cell_type": "code",
      "execution_count": 49,
      "metadata": {
        "colab": {
          "base_uri": "https://localhost:8080/"
        },
        "id": "TSMSKdJeLinb",
        "outputId": "ff72ed38-1ace-4b04-e855-1c6d77b4b277"
      },
      "outputs": [
        {
          "output_type": "stream",
          "name": "stdout",
          "text": [
            "Minimum duration of call is: 0 sec\n",
            "Maximum duration of call is: 4918 sec\n"
          ]
        }
      ],
      "source": [
        "print(\"Minimum duration of call is:\",(cus_df['dur']).min(),\"sec\")\n",
        "print(\"Maximum duration of call is:\",(cus_df['dur']).max(),\"sec\")"
      ]
    },
    {
      "cell_type": "code",
      "source": [
        "detect_outliers(cus_df, 'dur')"
      ],
      "metadata": {
        "colab": {
          "base_uri": "https://localhost:8080/"
        },
        "id": "4Uszxonq_khZ",
        "outputId": "13e307e6-de85-463f-bfc3-2ec1035c9727"
      },
      "execution_count": 50,
      "outputs": [
        {
          "output_type": "stream",
          "name": "stdout",
          "text": [
            "LowerFence: -221.0, UpperFence: 643.0\n",
            "3217 Outliers present in dur\n"
          ]
        }
      ]
    },
    {
      "cell_type": "code",
      "execution_count": 51,
      "metadata": {
        "colab": {
          "base_uri": "https://localhost:8080/",
          "height": 312
        },
        "id": "UR1WP2Xv9KAf",
        "outputId": "aa3f45fd-50eb-4ddc-c1cf-df0d1ec5390a"
      },
      "outputs": [
        {
          "output_type": "execute_result",
          "data": {
            "text/plain": [
              "Text(0.5, 1.0, 'checking outliers in Duration')"
            ]
          },
          "metadata": {},
          "execution_count": 51
        },
        {
          "output_type": "display_data",
          "data": {
            "text/plain": [
              "<Figure size 432x288 with 1 Axes>"
            ],
            "image/png": "[encoded data removed]"
          },
          "metadata": {
            "needs_background": "light"
          }
        }
      ],
      "source": [
        "#checking outliers in duration column\n",
        "sns.boxplot('dur',data=cus_df)\n",
        "plt.title(\"checking outliers in Duration\")"
      ]
    },
    {
      "cell_type": "code",
      "execution_count": 52,
      "metadata": {
        "colab": {
          "base_uri": "https://localhost:8080/"
        },
        "id": "jLSDF67eGmg-",
        "outputId": "911384d3-6385-46bd-d69f-2aee97ae1d01"
      },
      "outputs": [
        {
          "output_type": "execute_result",
          "data": {
            "text/plain": [
              "count    44917.000000\n",
              "mean       258.314959\n",
              "std        257.724537\n",
              "min          0.000000\n",
              "25%        103.000000\n",
              "50%        180.000000\n",
              "75%        319.000000\n",
              "max       4918.000000\n",
              "Name: dur, dtype: float64"
            ]
          },
          "metadata": {},
          "execution_count": 52
        }
      ],
      "source": [
        "cus_df.dur.describe()"
      ]
    },
    {
      "cell_type": "markdown",
      "metadata": {
        "id": "mKFhZesgNL68"
      },
      "source": [
        "There are many outliers, so going to clipping the outliers "
      ]
    },
    {
      "cell_type": "code",
      "source": [
        "clip_outliers(cus_df,'dur')"
      ],
      "metadata": {
        "id": "gZnkm1vX_yIS"
      },
      "execution_count": 53,
      "outputs": []
    },
    {
      "cell_type": "code",
      "source": [
        "#checking outliers in duration column after clipping outliers\n",
        "sns.boxplot('dur',data=cus_df)\n",
        "plt.title(\"checking outliers in Duration after clipping\")"
      ],
      "metadata": {
        "colab": {
          "base_uri": "https://localhost:8080/",
          "height": 312
        },
        "id": "U7OVtPUj_5xC",
        "outputId": "1d4bf971-1225-4e76-85f4-83b202468cd7"
      },
      "execution_count": 54,
      "outputs": [
        {
          "output_type": "execute_result",
          "data": {
            "text/plain": [
              "Text(0.5, 1.0, 'checking outliers in Duration after clipping')"
            ]
          },
          "metadata": {},
          "execution_count": 54
        },
        {
          "output_type": "display_data",
          "data": {
            "text/plain": [
              "<Figure size 432x288 with 1 Axes>"
            ],
            "image/png": "[encoded data removed]"
          },
          "metadata": {
            "needs_background": "light"
          }
        }
      ]
    },
    {
      "cell_type": "markdown",
      "metadata": {
        "id": "3BosSyJmNlNj"
      },
      "source": [
        "**Number_calls** -- Column"
      ]
    },
    {
      "cell_type": "code",
      "execution_count": 55,
      "metadata": {
        "colab": {
          "base_uri": "https://localhost:8080/"
        },
        "id": "k8iyMPZgL6Jy",
        "outputId": "2166e938-f615-464d-f205-986b8e2660de"
      },
      "outputs": [
        {
          "output_type": "execute_result",
          "data": {
            "text/plain": [
              "0"
            ]
          },
          "metadata": {},
          "execution_count": 55
        }
      ],
      "source": [
        "#checking the null Values\n",
        "cus_df['num_calls'].isnull().sum()"
      ]
    },
    {
      "cell_type": "code",
      "execution_count": 56,
      "metadata": {
        "colab": {
          "base_uri": "https://localhost:8080/"
        },
        "id": "QImr2R98NtX7",
        "outputId": "10540c5c-847a-400b-c997-c3cdb2eb2dfa"
      },
      "outputs": [
        {
          "output_type": "execute_result",
          "data": {
            "text/plain": [
              "array([ 1,  2,  3,  5,  4,  6,  7,  8,  9, 10, 11, 12, 13, 19, 14, 24, 16,\n",
              "       32, 18, 22, 15, 17, 25, 21, 43, 51, 63, 41, 26, 28, 55, 50, 38, 23,\n",
              "       20, 29, 31, 37, 30, 46, 27, 58, 33, 35, 34, 36, 39, 44])"
            ]
          },
          "metadata": {},
          "execution_count": 56
        }
      ],
      "source": [
        "#Checking unique values\n",
        "cus_df['num_calls'].unique()"
      ]
    },
    {
      "cell_type": "code",
      "execution_count": 57,
      "metadata": {
        "colab": {
          "base_uri": "https://localhost:8080/"
        },
        "id": "0QsRp92sN06L",
        "outputId": "af89e054-1af6-432e-e9c7-963c208f318c"
      },
      "outputs": [
        {
          "output_type": "execute_result",
          "data": {
            "text/plain": [
              "count    44917.000000\n",
              "mean         2.760403\n",
              "std          3.093007\n",
              "min          1.000000\n",
              "25%          1.000000\n",
              "50%          2.000000\n",
              "75%          3.000000\n",
              "max         63.000000\n",
              "Name: num_calls, dtype: float64"
            ]
          },
          "metadata": {},
          "execution_count": 57
        }
      ],
      "source": [
        "#Statistical information of num_calls\n",
        "cus_df.num_calls.describe()"
      ]
    },
    {
      "cell_type": "markdown",
      "source": [
        "From the above data 75% of data have below 3 number of calls. Above 30 number of calls are not possible in real world seen to be those are outliers"
      ],
      "metadata": {
        "id": "artE3m0_JmbU"
      }
    },
    {
      "cell_type": "code",
      "source": [
        "#detecting outliers of num_calls column\n",
        "detect_outliers(cus_df, 'num_calls')"
      ],
      "metadata": {
        "colab": {
          "base_uri": "https://localhost:8080/"
        },
        "id": "_EaKpwBqAO5g",
        "outputId": "24c713d6-f6ad-4afd-e72f-d5ffd83c7837"
      },
      "execution_count": 58,
      "outputs": [
        {
          "output_type": "stream",
          "name": "stdout",
          "text": [
            "LowerFence: -2.0, UpperFence: 6.0\n",
            "3031 Outliers present in num_calls\n"
          ]
        }
      ]
    },
    {
      "cell_type": "code",
      "source": [
        "#checking outliers in day column\n",
        "sns.boxplot('num_calls',data=cus_df)\n",
        "plt.title(\"checking outliers in Number of calls\")"
      ],
      "metadata": {
        "colab": {
          "base_uri": "https://localhost:8080/",
          "height": 313
        },
        "id": "GI8f-UPIAjrH",
        "outputId": "89c528e8-e2b8-4d28-8152-198a906c6362"
      },
      "execution_count": 59,
      "outputs": [
        {
          "output_type": "execute_result",
          "data": {
            "text/plain": [
              "Text(0.5, 1.0, 'checking outliers in Number of calls')"
            ]
          },
          "metadata": {},
          "execution_count": 59
        },
        {
          "output_type": "display_data",
          "data": {
            "text/plain": [
              "<Figure size 432x288 with 1 Axes>"
            ],
            "image/png": "[encoded data removed]"
          },
          "metadata": {
            "needs_background": "light"
          }
        }
      ]
    },
    {
      "cell_type": "code",
      "source": [
        "#clipping outliers\n",
        "clip_outliers(cus_df,'num_calls')"
      ],
      "metadata": {
        "id": "z8RiJPc6Ac5W"
      },
      "execution_count": 60,
      "outputs": []
    },
    {
      "cell_type": "code",
      "source": [
        "#checking outliers in Number of calls column after clipping outliers\n",
        "sns.boxplot('num_calls',data=cus_df)\n",
        "plt.title(\"checking outliers in Number of calls  after clipping\")"
      ],
      "metadata": {
        "colab": {
          "base_uri": "https://localhost:8080/",
          "height": 313
        },
        "id": "rS3FGTpNAupE",
        "outputId": "6065283d-4868-4003-8ce4-4190a346f253"
      },
      "execution_count": 61,
      "outputs": [
        {
          "output_type": "execute_result",
          "data": {
            "text/plain": [
              "Text(0.5, 1.0, 'checking outliers in Number of calls  after clipping')"
            ]
          },
          "metadata": {},
          "execution_count": 61
        },
        {
          "output_type": "display_data",
          "data": {
            "text/plain": [
              "<Figure size 432x288 with 1 Axes>"
            ],
            "image/png": "[encoded data removed]"
          },
          "metadata": {
            "needs_background": "light"
          }
        }
      ]
    },
    {
      "cell_type": "markdown",
      "metadata": {
        "id": "lKOyRxIJSkU6"
      },
      "source": [
        "**Prev_outcome** -- Column"
      ]
    },
    {
      "cell_type": "code",
      "execution_count": 62,
      "metadata": {
        "colab": {
          "base_uri": "https://localhost:8080/"
        },
        "id": "CfLj-ZRmR-mS",
        "outputId": "9ed42ce0-6425-4c09-886b-4ad4568aec38"
      },
      "outputs": [
        {
          "output_type": "execute_result",
          "data": {
            "text/plain": [
              "0"
            ]
          },
          "metadata": {},
          "execution_count": 62
        }
      ],
      "source": [
        "#checking the null Values\n",
        "cus_df['prev_outcome'].isnull().sum()"
      ]
    },
    {
      "cell_type": "code",
      "execution_count": 63,
      "metadata": {
        "colab": {
          "base_uri": "https://localhost:8080/"
        },
        "id": "V9_ijeX0SpXq",
        "outputId": "a72c8af8-8033-4e42-da98-b6bcc804187d"
      },
      "outputs": [
        {
          "output_type": "execute_result",
          "data": {
            "text/plain": [
              "unknown    36698\n",
              "failure     4881\n",
              "other       1838\n",
              "success     1500\n",
              "Name: prev_outcome, dtype: int64"
            ]
          },
          "metadata": {},
          "execution_count": 63
        }
      ],
      "source": [
        "#checking the unique values and their counts\n",
        "cus_df['prev_outcome'].value_counts()"
      ]
    },
    {
      "cell_type": "code",
      "execution_count": 64,
      "metadata": {
        "colab": {
          "base_uri": "https://localhost:8080/"
        },
        "id": "rukHlq-OStkz",
        "outputId": "61ae876e-f546-49b4-f7c2-024e817fdb6a"
      },
      "outputs": [
        {
          "output_type": "stream",
          "name": "stdout",
          "text": [
            "The percentage of unknown data is: 81.70180555246344\n"
          ]
        }
      ],
      "source": [
        "print(\"The percentage of unknown data is:\", ((cus_df['prev_outcome']=='unknown').sum()/cus_df.shape[0])*100)"
      ]
    },
    {
      "cell_type": "code",
      "source": [
        "cus_df['target'] = cus_df['y'].map({\"yes\":1,\"no\":0})"
      ],
      "metadata": {
        "id": "0_PJicYEFDLN"
      },
      "execution_count": 65,
      "outputs": []
    },
    {
      "cell_type": "code",
      "source": [
        "cus_df.groupby('prev_outcome')['target'].mean()"
      ],
      "metadata": {
        "colab": {
          "base_uri": "https://localhost:8080/"
        },
        "id": "b6YKpdTHFXwq",
        "outputId": "c70cebd2-2620-4704-c4d3-ed163a6afe85"
      },
      "execution_count": 66,
      "outputs": [
        {
          "output_type": "execute_result",
          "data": {
            "text/plain": [
              "prev_outcome\n",
              "failure    0.125384\n",
              "other      0.166485\n",
              "success    0.646000\n",
              "unknown    0.091776\n",
              "Name: target, dtype: float64"
            ]
          },
          "metadata": {},
          "execution_count": 66
        }
      ]
    },
    {
      "cell_type": "markdown",
      "source": [
        "**whenver `previous outcome is success` there is a 64% chance of customers bought the insurance **"
      ],
      "metadata": {
        "id": "ZUrdJC8pFqLJ"
      }
    },
    {
      "cell_type": "code",
      "execution_count": 67,
      "metadata": {
        "colab": {
          "base_uri": "https://localhost:8080/"
        },
        "id": "h-3GXHbHTBJj",
        "outputId": "e661d6df-c5c5-4b86-97b2-ec14006f72cd"
      },
      "outputs": [
        {
          "output_type": "execute_result",
          "data": {
            "text/plain": [
              "Index(['age', 'job', 'marital', 'education_qual', 'call_type', 'day', 'mon',\n",
              "       'dur', 'num_calls', 'prev_outcome', 'y', 'target'],\n",
              "      dtype='object')"
            ]
          },
          "metadata": {},
          "execution_count": 67
        }
      ],
      "source": [
        "#column list after droping prev_outcome column\n",
        "cus_df.columns"
      ]
    },
    {
      "cell_type": "markdown",
      "metadata": {
        "id": "w1HKSPheTHW-"
      },
      "source": [
        "# **EXPLORATORY DATA ANALYSIS**"
      ]
    },
    {
      "cell_type": "code",
      "execution_count": 68,
      "metadata": {
        "id": "FiO3pUT_orCs"
      },
      "outputs": [],
      "source": [
        "cus_df_yes = cus_df[cus_df['y'] == 'yes']\n",
        "cus_df_no = cus_df[cus_df['y'] == 'no']"
      ]
    },
    {
      "cell_type": "code",
      "execution_count": 69,
      "metadata": {
        "id": "0m9tPahSpsZT"
      },
      "outputs": [],
      "source": [
        "#function to visualize the categorical columns\n",
        "def feature_vs_target(dataframe, feature, target):\n",
        "  \n",
        "  plt.figure(figsize=(16,6))\n",
        "  \n",
        "  plt.subplot(121)\n",
        "  sns.set_theme(style=\"darkgrid\",palette=\"bright\")\n",
        "  sns.countplot(x=feature, hue=target, data=cus_df, order=cus_df[feature].value_counts().index)\n",
        "  plt.title(feature + \" vs \" + target,fontsize = 20)\n",
        "  plt.xticks(rotation=60)\n",
        "  \n",
        "  plt.subplot(122)  \n",
        "  sns.countplot(x=feature, data=cus_df_yes, order=cus_df_yes[feature].value_counts().index)\n",
        "  plt.title(feature + \" vs who take insurance\",fontsize = 20)\n",
        "  plt.xticks(rotation=60)\n",
        "  plt.tight_layout()\n",
        "  plt.show()"
      ]
    },
    {
      "cell_type": "code",
      "execution_count": 70,
      "metadata": {
        "colab": {
          "base_uri": "https://localhost:8080/",
          "height": 437
        },
        "id": "CdU3xIP6qSMo",
        "outputId": "b2a19511-e9f0-4154-aa56-88d579ace932"
      },
      "outputs": [
        {
          "output_type": "display_data",
          "data": {
            "text/plain": [
              "<Figure size 1152x432 with 2 Axes>"
            ],
            "image/png": "[encoded data removed]"
          },
          "metadata": {
            "needs_background": "light"
          }
        }
      ],
      "source": [
        "#visualization for Job column\n",
        "feature_vs_target(cus_df,'job','y')"
      ]
    },
    {
      "cell_type": "code",
      "source": [
        "plt.figure(figsize=(16,6))\n",
        "(cus_df.groupby('job')['target'].mean()*100).sort_values().plot(kind = 'barh')\n",
        "plt.show()"
      ],
      "metadata": {
        "colab": {
          "base_uri": "https://localhost:8080/",
          "height": 377
        },
        "id": "t4EgAUSZKmM5",
        "outputId": "e1e81110-1e09-4c09-bf47-d59184741b4e"
      },
      "execution_count": 71,
      "outputs": [
        {
          "output_type": "display_data",
          "data": {
            "text/plain": [
              "<Figure size 1152x432 with 1 Axes>"
            ],
            "image/png": "[encoded data removed]"
          },
          "metadata": {}
        }
      ]
    },
    {
      "cell_type": "markdown",
      "metadata": {
        "id": "CkczaaMbrHkA"
      },
      "source": [
        "**Interpretation of Job plots** \n",
        "1. Management people takes insurance compared to other professions\n",
        "2. Conversion rate is higher in students and retired category is better comapred to other category.Targetting those kind of category people helps to get more subscription"
      ]
    },
    {
      "cell_type": "code",
      "execution_count": 72,
      "metadata": {
        "colab": {
          "base_uri": "https://localhost:8080/",
          "height": 437
        },
        "id": "1WanZNp5qStq",
        "outputId": "efbf3dbc-d4cf-4687-dd7b-ccb113d7f7bf"
      },
      "outputs": [
        {
          "output_type": "display_data",
          "data": {
            "text/plain": [
              "<Figure size 1152x432 with 2 Axes>"
            ],
            "image/png": "[encoded data removed]"
          },
          "metadata": {}
        }
      ],
      "source": [
        "#visualization for Marital column\n",
        "feature_vs_target(cus_df,'marital','y')"
      ]
    },
    {
      "cell_type": "code",
      "source": [
        "plt.figure(figsize=(8,5))\n",
        "(cus_df.groupby('marital')['target'].mean()*100).sort_values().plot(kind = 'barh')\n",
        "plt.show()"
      ],
      "metadata": {
        "colab": {
          "base_uri": "https://localhost:8080/",
          "height": 322
        },
        "id": "Zm9BlO58MLso",
        "outputId": "4a45c7f1-b848-4c5c-ac81-95b1abe821bf"
      },
      "execution_count": 73,
      "outputs": [
        {
          "output_type": "display_data",
          "data": {
            "text/plain": [
              "<Figure size 576x360 with 1 Axes>"
            ],
            "image/png": "[encoded data removed]"
          },
          "metadata": {}
        }
      ]
    },
    {
      "cell_type": "markdown",
      "metadata": {
        "id": "zexmfGUKsM7L"
      },
      "source": [
        "**Interpretation of Marital plot** \n",
        "1. Married people taking insurance compared to single and divorced persons but the conversion rate is higher in single people(Reason-people in younger age purchase insurance may be because of low premium)compared to married and divorced people\n"
      ]
    },
    {
      "cell_type": "code",
      "execution_count": 74,
      "metadata": {
        "colab": {
          "base_uri": "https://localhost:8080/",
          "height": 437
        },
        "id": "bIKx7mJZr1qy",
        "outputId": "e281ca77-17a5-4e01-f73f-e12dafe2be30"
      },
      "outputs": [
        {
          "output_type": "display_data",
          "data": {
            "text/plain": [
              "<Figure size 1152x432 with 2 Axes>"
            ],
            "image/png": "[encoded data removed]"
          },
          "metadata": {}
        }
      ],
      "source": [
        "#visualization for Education Qualification column\n",
        "feature_vs_target(cus_df,'education_qual','y')"
      ]
    },
    {
      "cell_type": "code",
      "source": [
        "plt.figure(figsize=(8,5))\n",
        "(cus_df.groupby('education_qual')['target'].mean()*100).sort_values().plot(kind = 'barh')\n",
        "plt.show()"
      ],
      "metadata": {
        "colab": {
          "base_uri": "https://localhost:8080/",
          "height": 322
        },
        "id": "at5qqnckNTRs",
        "outputId": "f978dd92-a00f-4dfc-fc9f-d3d4454f133a"
      },
      "execution_count": 75,
      "outputs": [
        {
          "output_type": "display_data",
          "data": {
            "text/plain": [
              "<Figure size 576x360 with 1 Axes>"
            ],
            "image/png": "[encoded data removed]"
          },
          "metadata": {}
        }
      ]
    },
    {
      "cell_type": "markdown",
      "metadata": {
        "id": "qVijM-76tWoT"
      },
      "source": [
        "**Interpretation of Eduation Qualification plot** \n",
        "\n",
        "1. People who undergone seconday and tertiary education ie.12th class and above (college) have knowledge about insurance subscribed more "
      ]
    },
    {
      "cell_type": "code",
      "execution_count": 76,
      "metadata": {
        "colab": {
          "base_uri": "https://localhost:8080/",
          "height": 437
        },
        "id": "HyMbjufBt2B3",
        "outputId": "49fb42e4-e452-42e5-c651-e06eba649458"
      },
      "outputs": [
        {
          "output_type": "display_data",
          "data": {
            "text/plain": [
              "<Figure size 1152x432 with 2 Axes>"
            ],
            "image/png": "[encoded data removed]"
          },
          "metadata": {}
        }
      ],
      "source": [
        "#visualization for Month column\n",
        "feature_vs_target(cus_df,'mon','y')"
      ]
    },
    {
      "cell_type": "code",
      "source": [
        "plt.figure(figsize=(8,5))\n",
        "(cus_df.groupby('mon')['target'].mean()*100).sort_values().plot(kind = 'barh')\n",
        "plt.show()"
      ],
      "metadata": {
        "colab": {
          "base_uri": "https://localhost:8080/",
          "height": 322
        },
        "id": "G1aKsY0tNwAw",
        "outputId": "00d789bb-418c-4f3c-b5d4-81288435ee0d"
      },
      "execution_count": 77,
      "outputs": [
        {
          "output_type": "display_data",
          "data": {
            "text/plain": [
              "<Figure size 576x360 with 1 Axes>"
            ],
            "image/png": "[encoded data removed]"
          },
          "metadata": {}
        }
      ]
    },
    {
      "cell_type": "markdown",
      "metadata": {
        "id": "u1xJOV99uBz3"
      },
      "source": [
        "**Interpretation of Month plot** \n",
        "1. people take more insurance in the month of may but conversion rate of march, december and september is high which is around 50%\n"
      ]
    },
    {
      "cell_type": "code",
      "source": [
        "#visualization for previous outcome column\n",
        "feature_vs_target(cus_df,'prev_outcome','y')"
      ],
      "metadata": {
        "colab": {
          "base_uri": "https://localhost:8080/",
          "height": 437
        },
        "id": "jJQbkwnUQNm_",
        "outputId": "7680569f-17f8-480a-8122-dc801011e057"
      },
      "execution_count": 78,
      "outputs": [
        {
          "output_type": "display_data",
          "data": {
            "text/plain": [
              "<Figure size 1152x432 with 2 Axes>"
            ],
            "image/png": "[encoded data removed]"
          },
          "metadata": {}
        }
      ]
    },
    {
      "cell_type": "code",
      "source": [
        "plt.figure(figsize=(8,5))\n",
        "(cus_df.groupby('prev_outcome')['target'].mean()*100).sort_values().plot(kind = 'barh')\n",
        "plt.show()"
      ],
      "metadata": {
        "colab": {
          "base_uri": "https://localhost:8080/",
          "height": 322
        },
        "id": "5etvnIpxT_09",
        "outputId": "0088ee63-3621-4524-b145-9c11145076df"
      },
      "execution_count": 79,
      "outputs": [
        {
          "output_type": "display_data",
          "data": {
            "text/plain": [
              "<Figure size 576x360 with 1 Axes>"
            ],
            "image/png": "[encoded data removed]"
          },
          "metadata": {}
        }
      ]
    },
    {
      "cell_type": "markdown",
      "source": [
        "\n",
        "\n",
        "*   If the previous outcome is success then that person is more likely to purchase insurance beacuse the conversion rate is above 60% \n",
        "\n",
        "\n"
      ],
      "metadata": {
        "id": "F5zZfTVlUKJg"
      }
    },
    {
      "cell_type": "code",
      "source": [
        "#visualization for call type column\n",
        "feature_vs_target(cus_df,'prev_outcome','y')"
      ],
      "metadata": {
        "colab": {
          "base_uri": "https://localhost:8080/",
          "height": 437
        },
        "id": "q0TFXrNBel8K",
        "outputId": "bf4067c1-556e-4a47-d3a4-fddb18c39766"
      },
      "execution_count": 80,
      "outputs": [
        {
          "output_type": "display_data",
          "data": {
            "text/plain": [
              "<Figure size 1152x432 with 2 Axes>"
            ],
            "image/png": "[encoded data removed]"
          },
          "metadata": {}
        }
      ]
    },
    {
      "cell_type": "code",
      "source": [
        "plt.figure(figsize=(8,5))\n",
        "(cus_df.groupby('call_type')['target'].mean()*100).sort_values().plot(kind = 'barh')\n",
        "plt.show()"
      ],
      "metadata": {
        "colab": {
          "base_uri": "https://localhost:8080/",
          "height": 322
        },
        "id": "dzHQKOQKehyj",
        "outputId": "1d2a9d42-b340-4687-efd1-1c91011ff1f8"
      },
      "execution_count": 81,
      "outputs": [
        {
          "output_type": "display_data",
          "data": {
            "text/plain": [
              "<Figure size 576x360 with 1 Axes>"
            ],
            "image/png": "[encoded data removed]"
          },
          "metadata": {}
        }
      ]
    },
    {
      "cell_type": "code",
      "execution_count": 82,
      "metadata": {
        "colab": {
          "base_uri": "https://localhost:8080/",
          "height": 440
        },
        "id": "UNuQxsYl-HuW",
        "outputId": "e9d0b148-924c-4866-df7b-e8455a47dc60"
      },
      "outputs": [
        {
          "output_type": "execute_result",
          "data": {
            "text/plain": [
              "Text(0, 0.5, 'Count')"
            ]
          },
          "metadata": {},
          "execution_count": 82
        },
        {
          "output_type": "display_data",
          "data": {
            "text/plain": [
              "<Figure size 1152x432 with 2 Axes>"
            ],
            "image/png": "[encoded data removed]"
          },
          "metadata": {}
        }
      ],
      "source": [
        "#Visualization of Numerical Columns\n",
        "plt.figure(figsize=(16,6))\n",
        "plt.subplot(1,2,1)\n",
        "sns.histplot(cus_df['day']) \n",
        "sns.set_theme(style=\"darkgrid\",palette=\"bright\")\n",
        "plt.title('Day Distribution', fontsize = 20) \n",
        "plt.xlabel('Day ',fontsize = 16) \n",
        "plt.xticks(rotation = 60,fontsize = 10) \n",
        "plt.ylabel('Count',fontsize = 16)\n",
        "\n",
        "plt.subplot(1,2,2)\n",
        "sns.histplot(cus_df['age']) \n",
        "sns.set_theme(style=\"darkgrid\",palette=\"bright\")\n",
        "plt.title('Age Distribution', fontsize = 20) \n",
        "plt.xlabel('Age ',fontsize = 16) \n",
        "plt.xticks(rotation = 60,fontsize = 10) \n",
        "plt.ylabel('Count',fontsize = 16)"
      ]
    },
    {
      "cell_type": "code",
      "source": [
        "plt.figure(figsize=(16,6))\n",
        "plt.subplot(1,2,1)\n",
        "sns.boxplot(data = cus_df,x='y',y='age')\n",
        "plt.title('Age vs Target(y)', fontsize = 20) \n",
        "plt.subplot(1,2,2)\n",
        "sns.boxplot(data = cus_df,x='y',y='day')\n",
        "plt.title('Day vs Target(y)', fontsize = 20) "
      ],
      "metadata": {
        "colab": {
          "base_uri": "https://localhost:8080/",
          "height": 432
        },
        "id": "bkZHklPfU1Hk",
        "outputId": "617cda04-d4e6-4670-ac65-63572bf9bfe1"
      },
      "execution_count": 83,
      "outputs": [
        {
          "output_type": "execute_result",
          "data": {
            "text/plain": [
              "Text(0.5, 1.0, 'Day vs Target(y)')"
            ]
          },
          "metadata": {},
          "execution_count": 83
        },
        {
          "output_type": "display_data",
          "data": {
            "text/plain": [
              "<Figure size 1152x432 with 2 Axes>"
            ],
            "image/png": "[encoded data removed]"
          },
          "metadata": {}
        }
      ]
    },
    {
      "cell_type": "code",
      "source": [
        "plt.figure(figsize=(10,10))\n",
        "(cus_df.groupby('age')['target'].mean()*100).sort_values().plot(kind = 'barh')\n",
        "plt.show()"
      ],
      "metadata": {
        "colab": {
          "base_uri": "https://localhost:8080/",
          "height": 594
        },
        "id": "L2N7uY5HWin9",
        "outputId": "3a837cb5-a0d9-4faf-9a54-e6d90fb0a6c3"
      },
      "execution_count": 84,
      "outputs": [
        {
          "output_type": "display_data",
          "data": {
            "text/plain": [
              "<Figure size 720x720 with 1 Axes>"
            ],
            "image/png": "[encoded data removed]"
          },
          "metadata": {}
        }
      ]
    },
    {
      "cell_type": "markdown",
      "source": [
        "**Interpretation of Age plot**  - People who are in age above 60 have conversion rate of 50% and people in 20's also interested in   taking insurance"
      ],
      "metadata": {
        "id": "rIuAbAI5X8l6"
      }
    },
    {
      "cell_type": "code",
      "execution_count": 85,
      "metadata": {
        "colab": {
          "base_uri": "https://localhost:8080/",
          "height": 365
        },
        "id": "W3ehB5n2AbFx",
        "outputId": "b3b0dcbd-742d-4315-c7a8-f95ecac5d9ef"
      },
      "outputs": [
        {
          "output_type": "display_data",
          "data": {
            "text/plain": [
              "<Figure size 720x360 with 2 Axes>"
            ],
            "image/png": "[encoded data removed]"
          },
          "metadata": {}
        }
      ],
      "source": [
        "#visualizing the Call distribution and number of calls\n",
        "plt.figure(figsize=(10,5))\n",
        "plt.subplot(1,2,1)\n",
        "sns.set_theme(style=\"darkgrid\",palette=\"bright\")\n",
        "sns.histplot(cus_df['dur'],color = 'green')\n",
        "plt.title('Call duration distribution', fontsize = 20) \n",
        "plt.xlabel('call duration ',fontsize = 16) \n",
        "plt.xticks(rotation = 60,fontsize = 10) \n",
        "plt.xlim([0,1500])\n",
        "plt.ylabel('Count',fontsize = 16)\n",
        "\n",
        "plt.subplot(1,2,2)\n",
        "\n",
        "sns.distplot(cus_df['num_calls'],color = 'blue')\n",
        "plt.title('Number of calls', fontsize = 20) \n",
        "plt.xlabel('Number of calls ',fontsize = 16) \n",
        "plt.xticks(rotation = 60,fontsize = 10) \n",
        "plt.xlim([0,10])\n",
        "plt.ylabel('Count',fontsize = 16)\n",
        "plt.tight_layout()\n",
        "plt.show()"
      ]
    },
    {
      "cell_type": "code",
      "source": [
        "plt.figure(figsize=(16,6))\n",
        "plt.subplot(1,2,1)\n",
        "sns.boxplot(data = cus_df,x='y',y='dur')\n",
        "plt.title('Age vs Target(y)', fontsize = 20) \n",
        "plt.subplot(1,2,2)\n",
        "sns.boxplot(data = cus_df,x='y',y='num_calls')\n",
        "plt.title('Day vs Target(y)', fontsize = 20) "
      ],
      "metadata": {
        "colab": {
          "base_uri": "https://localhost:8080/",
          "height": 432
        },
        "id": "rog6g0PDYpg8",
        "outputId": "d9bdf44e-df47-4d85-dafa-e5bb30d70a9c"
      },
      "execution_count": 86,
      "outputs": [
        {
          "output_type": "execute_result",
          "data": {
            "text/plain": [
              "Text(0.5, 1.0, 'Day vs Target(y)')"
            ]
          },
          "metadata": {},
          "execution_count": 86
        },
        {
          "output_type": "display_data",
          "data": {
            "text/plain": [
              "<Figure size 1152x432 with 2 Axes>"
            ],
            "image/png": "[encoded data removed]"
          },
          "metadata": {}
        }
      ]
    },
    {
      "cell_type": "markdown",
      "source": [
        "**Interpretation of call duration plot**  - More the duration more purchase of insurance.It is easy to convience if we talk to customer more"
      ],
      "metadata": {
        "id": "X5_qKk1JX7bO"
      }
    },
    {
      "cell_type": "code",
      "execution_count": 87,
      "metadata": {
        "id": "Bstk51aDR-1_"
      },
      "outputs": [],
      "source": [
        "cus_df.to_csv('customer_conversion_final.csv')"
      ]
    },
    {
      "cell_type": "markdown",
      "metadata": {
        "id": "WzY6doqcJCoG"
      },
      "source": [
        "# **Label Encodeing**"
      ]
    },
    {
      "cell_type": "markdown",
      "source": [
        "Encoded in the order category have higher convesrion rate"
      ],
      "metadata": {
        "id": "iddHfEp7cnxN"
      }
    },
    {
      "cell_type": "code",
      "source": [
        "cus_df.columns"
      ],
      "metadata": {
        "colab": {
          "base_uri": "https://localhost:8080/"
        },
        "id": "0Gb_EUEbZXfQ",
        "outputId": "4ee2359d-bca8-4888-8566-dc56809e0e07"
      },
      "execution_count": 88,
      "outputs": [
        {
          "output_type": "execute_result",
          "data": {
            "text/plain": [
              "Index(['age', 'job', 'marital', 'education_qual', 'call_type', 'day', 'mon',\n",
              "       'dur', 'num_calls', 'prev_outcome', 'y', 'target'],\n",
              "      dtype='object')"
            ]
          },
          "metadata": {},
          "execution_count": 88
        }
      ]
    },
    {
      "cell_type": "code",
      "execution_count": 89,
      "metadata": {
        "colab": {
          "base_uri": "https://localhost:8080/"
        },
        "id": "SMTbWq-VH02l",
        "outputId": "ea9f59fd-bb17-42b9-f4e2-61bfe0842e66"
      },
      "outputs": [
        {
          "output_type": "execute_result",
          "data": {
            "text/plain": [
              "array(['management', 'technician', 'entrepreneur', 'blue-collar',\n",
              "       'retired', 'admin', 'services', 'self-employed', 'unemployed',\n",
              "       'housemaid', 'student'], dtype=object)"
            ]
          },
          "metadata": {},
          "execution_count": 89
        }
      ],
      "source": [
        "cus_df.job.unique()"
      ]
    },
    {
      "cell_type": "code",
      "execution_count": 90,
      "metadata": {
        "id": "Yy82kOwLVfIw"
      },
      "outputs": [],
      "source": [
        "#job column\n",
        "cus_df.job = cus_df.job.map({'student':10,\n",
        "                             'retired': 9,\n",
        "                             'unemployed': 8,\n",
        "                             'management': 7,\n",
        "                             'admin': 6, \n",
        "                             'self-employed': 5, \n",
        "                             'technician': 4,\n",
        "                             'services': 3,\n",
        "                             'housemaid': 2,\n",
        "                             'entrepreneur': 1, \n",
        "                             'blue-collar': 0})"
      ]
    },
    {
      "cell_type": "code",
      "execution_count": 91,
      "metadata": {
        "id": "20SaLGmlKfAt"
      },
      "outputs": [],
      "source": [
        "#month column\n",
        "cus_df.mon = cus_df.mon.map({'mar': 11, \n",
        "                             'dec': 10,\n",
        "                             'sep': 9,\n",
        "                             'oct': 8,\n",
        "                             'apr': 7,\n",
        "                             'feb': 6,\n",
        "                             'aug': 5,\n",
        "                             'jun': 4,\n",
        "                             'nov': 3,\n",
        "                             'jan': 2,                                                       \n",
        "                             'jul': 1,                             \n",
        "                             'may':0})"
      ]
    },
    {
      "cell_type": "code",
      "execution_count": 92,
      "metadata": {
        "id": "YN_0wT2PYoBq"
      },
      "outputs": [],
      "source": [
        "#target column\n",
        "cus_df.y = cus_df.y.map({'yes':1, 'no':0})"
      ]
    },
    {
      "cell_type": "code",
      "execution_count": 93,
      "metadata": {
        "id": "EXsRXc-LYz8w"
      },
      "outputs": [],
      "source": [
        "#call type column\n",
        "cus_df.call_type =cus_df.call_type.map({'cellular':2,\n",
        "                                        'telephone':1,\n",
        "                                        'unknown':0})"
      ]
    },
    {
      "cell_type": "code",
      "execution_count": 94,
      "metadata": {
        "id": "soVFRxyWF3gx"
      },
      "outputs": [],
      "source": [
        "#marital column\n",
        "cus_df.marital =cus_df.marital.map({'single':2,\n",
        "                                    'divorced':1,\n",
        "                                    'married':0})"
      ]
    },
    {
      "cell_type": "code",
      "execution_count": 95,
      "metadata": {
        "id": "DdIHc-HBF3kL"
      },
      "outputs": [],
      "source": [
        "#education qualification\n",
        "cus_df.education_qual =cus_df.education_qual.map({'tertiary':3,\n",
        "                                                  'unknown':2,\n",
        "                                                  'secondary':1,\n",
        "                                                  'primary':0})"
      ]
    },
    {
      "cell_type": "code",
      "source": [
        "#previous outcome column\n",
        "cus_df.prev_outcome =cus_df.prev_outcome.map({'success':3,\n",
        "                                              'other':2,\n",
        "                                              'failure':1,\n",
        "                                              'unknown':0})"
      ],
      "metadata": {
        "id": "FLXXs-13fb3C"
      },
      "execution_count": 96,
      "outputs": []
    },
    {
      "cell_type": "code",
      "execution_count": 97,
      "metadata": {
        "colab": {
          "base_uri": "https://localhost:8080/"
        },
        "id": "BGdHn-o-ZWZs",
        "outputId": "84e833e8-d8fe-481e-9adb-9fc7270f3535"
      },
      "outputs": [
        {
          "output_type": "execute_result",
          "data": {
            "text/plain": [
              "Index(['age', 'job', 'marital', 'education_qual', 'call_type', 'day', 'mon',\n",
              "       'dur', 'num_calls', 'prev_outcome', 'y', 'target'],\n",
              "      dtype='object')"
            ]
          },
          "metadata": {},
          "execution_count": 97
        }
      ],
      "source": [
        "cus_df.columns"
      ]
    },
    {
      "cell_type": "code",
      "source": [
        "cus_df['marital'].unique()"
      ],
      "metadata": {
        "colab": {
          "base_uri": "https://localhost:8080/"
        },
        "id": "iolT4BZBgS_d",
        "outputId": "c9ae6064-3e36-4d23-e1e5-d2c3859cd6f6"
      },
      "execution_count": 98,
      "outputs": [
        {
          "output_type": "execute_result",
          "data": {
            "text/plain": [
              "array([0, 2, 1])"
            ]
          },
          "metadata": {},
          "execution_count": 98
        }
      ]
    },
    {
      "cell_type": "markdown",
      "metadata": {
        "id": "7DuoDBaTQRHG"
      },
      "source": [
        "# **Model Building**"
      ]
    },
    {
      "cell_type": "markdown",
      "metadata": {
        "id": "FLxzyFJUu-Z-"
      },
      "source": [
        "**Data Splitting and Scaling**"
      ]
    },
    {
      "cell_type": "code",
      "execution_count": 99,
      "metadata": {
        "id": "jastifLPuF02"
      },
      "outputs": [],
      "source": [
        "X = cus_df[['age', 'job', 'marital', 'education_qual', 'call_type', 'day', 'mon','dur', 'num_calls','prev_outcome']].values"
      ]
    },
    {
      "cell_type": "code",
      "execution_count": 100,
      "metadata": {
        "id": "jy8kF_eWfOca"
      },
      "outputs": [],
      "source": [
        "o_feature =cus_df[['age', 'job', 'marital', 'education_qual', 'call_type', 'day', 'mon',\n",
        "       'dur', 'num_calls','prev_outcome']]"
      ]
    },
    {
      "cell_type": "code",
      "execution_count": 101,
      "metadata": {
        "id": "hyBVoFGNvYgC"
      },
      "outputs": [],
      "source": [
        "y = cus_df[['y']].values"
      ]
    },
    {
      "cell_type": "code",
      "execution_count": 102,
      "metadata": {
        "colab": {
          "base_uri": "https://localhost:8080/"
        },
        "id": "mS30HzI5v7RS",
        "outputId": "02630a6d-e6ac-4cde-81ea-cd1af18ee53e"
      },
      "outputs": [
        {
          "output_type": "stream",
          "name": "stdout",
          "text": [
            "Independent feature X has 44917 rows and 10 columns\n",
            "Dependent feature y has 44917 rows and 1 columns\n"
          ]
        }
      ],
      "source": [
        "print('Independent feature X has {} rows and {} columns'.format(X.shape[0],X.shape[1]))\n",
        "print('Dependent feature y has {} rows and {} columns'.format(y.shape[0],y.shape[1]))"
      ]
    },
    {
      "cell_type": "markdown",
      "metadata": {
        "id": "LjghG7MevuVO"
      },
      "source": [
        "**Splitting the data**"
      ]
    },
    {
      "cell_type": "code",
      "execution_count": 103,
      "metadata": {
        "id": "XsnN-fs4vk1J"
      },
      "outputs": [],
      "source": [
        "from sklearn.model_selection import train_test_split\n",
        "X_train, X_test, y_train, y_test = train_test_split(X, y, test_size=0.2)"
      ]
    },
    {
      "cell_type": "code",
      "execution_count": 104,
      "metadata": {
        "colab": {
          "base_uri": "https://localhost:8080/"
        },
        "id": "8G-p9ZAbvzhb",
        "outputId": "377c3b5e-0144-476a-e762-03e7e7f5e73c"
      },
      "outputs": [
        {
          "output_type": "stream",
          "name": "stdout",
          "text": [
            "The shape of X train: (35933, 10)\n",
            "The shape of X test: (8984, 10)\n",
            "The shape of y train: (35933, 1)\n",
            "The shape of y test: (8984, 1)\n"
          ]
        }
      ],
      "source": [
        "print(\"The shape of X train:\", X_train.shape)\n",
        "print(\"The shape of X test:\", X_test.shape)\n",
        "print(\"The shape of y train:\", y_train.shape)\n",
        "print(\"The shape of y test:\", y_test.shape)"
      ]
    },
    {
      "cell_type": "markdown",
      "metadata": {
        "id": "7FQMXKDBze1V"
      },
      "source": [
        "**Balancing the target column**"
      ]
    },
    {
      "cell_type": "code",
      "execution_count": 105,
      "metadata": {
        "colab": {
          "base_uri": "https://localhost:8080/"
        },
        "id": "k0JT3jShwo9e",
        "outputId": "8ce415d8-55bb-4895-be2e-297b0a801c2d"
      },
      "outputs": [
        {
          "output_type": "stream",
          "name": "stdout",
          "text": [
            "Looking in indexes: https://pypi.org/simple, https://us-python.pkg.dev/colab-wheels/public/simple/\n",
            "Requirement already satisfied: imblearn in /usr/local/lib/python3.9/dist-packages (0.0)\n",
            "Requirement already satisfied: imbalanced-learn in /usr/local/lib/python3.9/dist-packages (from imblearn) (0.8.1)\n",
            "Requirement already satisfied: scikit-learn>=0.24 in /usr/local/lib/python3.9/dist-packages (from imbalanced-learn->imblearn) (1.2.2)\n",
            "Requirement already satisfied: scipy>=0.19.1 in /usr/local/lib/python3.9/dist-packages (from imbalanced-learn->imblearn) (1.10.1)\n",
            "Requirement already satisfied: joblib>=0.11 in /usr/local/lib/python3.9/dist-packages (from imbalanced-learn->imblearn) (1.1.1)\n",
            "Requirement already satisfied: numpy>=1.13.3 in /usr/local/lib/python3.9/dist-packages (from imbalanced-learn->imblearn) (1.22.4)\n",
            "Requirement already satisfied: threadpoolctl>=2.0.0 in /usr/local/lib/python3.9/dist-packages (from scikit-learn>=0.24->imbalanced-learn->imblearn) (3.1.0)\n"
          ]
        }
      ],
      "source": [
        "!pip install imblearn"
      ]
    },
    {
      "cell_type": "markdown",
      "metadata": {
        "id": "piPPX_R80Qy3"
      },
      "source": [
        "**Over sampling followed by under sampling**"
      ]
    },
    {
      "cell_type": "code",
      "execution_count": 106,
      "metadata": {
        "id": "PrKUULPLwpES"
      },
      "outputs": [],
      "source": [
        "from imblearn.combine import SMOTEENN\n",
        "smt = SMOTEENN(sampling_strategy='all')\n",
        "X_smt, y_smt = smt.fit_resample(X_train, y_train)"
      ]
    },
    {
      "cell_type": "code",
      "execution_count": 107,
      "metadata": {
        "colab": {
          "base_uri": "https://localhost:8080/"
        },
        "id": "WSPPUuyc02WT",
        "outputId": "70b6b953-0036-48d2-ed06-d83999efdcc7"
      },
      "outputs": [
        {
          "output_type": "execute_result",
          "data": {
            "text/plain": [
              "(54641,)"
            ]
          },
          "metadata": {},
          "execution_count": 107
        }
      ],
      "source": [
        "y_smt.shape"
      ]
    },
    {
      "cell_type": "markdown",
      "metadata": {
        "id": "rKb5XWcH1DxO"
      },
      "source": [
        "**Logistic Regression**"
      ]
    },
    {
      "cell_type": "code",
      "execution_count": 108,
      "metadata": {
        "id": "Sa1zgUmm03Qt",
        "colab": {
          "base_uri": "https://localhost:8080/",
          "height": 74
        },
        "outputId": "35ed7c33-8b8f-48be-f9d8-70a774b96b76"
      },
      "outputs": [
        {
          "output_type": "execute_result",
          "data": {
            "text/plain": [
              "LogisticRegression()"
            ],
            "text/html": [
              "<style>#sk-container-id-1 {color: black;background-color: white;}#sk-container-id-1 pre{padding: 0;}#sk-container-id-1 div.sk-toggleable {background-color: white;}#sk-container-id-1 label.sk-toggleable__label {cursor: pointer;display: block;width: 100%;margin-bottom: 0;padding: 0.3em;box-sizing: border-box;text-align: center;}#sk-container-id-1 label.sk-toggleable__label-arrow:before {content: \"▸\";float: left;margin-right: 0.25em;color: #696969;}#sk-container-id-1 label.sk-toggleable__label-arrow:hover:before {color: black;}#sk-container-id-1 div.sk-estimator:hover label.sk-toggleable__label-arrow:before {color: black;}#sk-container-id-1 div.sk-toggleable__content {max-height: 0;max-width: 0;overflow: hidden;text-align: left;background-color: #f0f8ff;}#sk-container-id-1 div.sk-toggleable__content pre {margin: 0.2em;color: black;border-radius: 0.25em;background-color: #f0f8ff;}#sk-container-id-1 input.sk-toggleable__control:checked~div.sk-toggleable__content {max-height: 200px;max-width: 100%;overflow: auto;}#sk-container-id-1 input.sk-toggleable__control:checked~label.sk-toggleable__label-arrow:before {content: \"▾\";}#sk-container-id-1 div.sk-estimator input.sk-toggleable__control:checked~label.sk-toggleable__label {background-color: #d4ebff;}#sk-container-id-1 div.sk-label input.sk-toggleable__control:checked~label.sk-toggleable__label {background-color: #d4ebff;}#sk-container-id-1 input.sk-hidden--visually {border: 0;clip: rect(1px 1px 1px 1px);clip: rect(1px, 1px, 1px, 1px);height: 1px;margin: -1px;overflow: hidden;padding: 0;position: absolute;width: 1px;}#sk-container-id-1 div.sk-estimator {font-family: monospace;background-color: #f0f8ff;border: 1px dotted black;border-radius: 0.25em;box-sizing: border-box;margin-bottom: 0.5em;}#sk-container-id-1 div.sk-estimator:hover {background-color: #d4ebff;}#sk-container-id-1 div.sk-parallel-item::after {content: \"\";width: 100%;border-bottom: 1px solid gray;flex-grow: 1;}#sk-container-id-1 div.sk-label:hover label.sk-toggleable__label {background-color: #d4ebff;}#sk-container-id-1 div.sk-serial::before {content: \"\";position: absolute;border-left: 1px solid gray;box-sizing: border-box;top: 0;bottom: 0;left: 50%;z-index: 0;}#sk-container-id-1 div.sk-serial {display: flex;flex-direction: column;align-items: center;background-color: white;padding-right: 0.2em;padding-left: 0.2em;position: relative;}#sk-container-id-1 div.sk-item {position: relative;z-index: 1;}#sk-container-id-1 div.sk-parallel {display: flex;align-items: stretch;justify-content: center;background-color: white;position: relative;}#sk-container-id-1 div.sk-item::before, #sk-container-id-1 div.sk-parallel-item::before {content: \"\";position: absolute;border-left: 1px solid gray;box-sizing: border-box;top: 0;bottom: 0;left: 50%;z-index: -1;}#sk-container-id-1 div.sk-parallel-item {display: flex;flex-direction: column;z-index: 1;position: relative;background-color: white;}#sk-container-id-1 div.sk-parallel-item:first-child::after {align-self: flex-end;width: 50%;}#sk-container-id-1 div.sk-parallel-item:last-child::after {align-self: flex-start;width: 50%;}#sk-container-id-1 div.sk-parallel-item:only-child::after {width: 0;}#sk-container-id-1 div.sk-dashed-wrapped {border: 1px dashed gray;margin: 0 0.4em 0.5em 0.4em;box-sizing: border-box;padding-bottom: 0.4em;background-color: white;}#sk-container-id-1 div.sk-label label {font-family: monospace;font-weight: bold;display: inline-block;line-height: 1.2em;}#sk-container-id-1 div.sk-label-container {text-align: center;}#sk-container-id-1 div.sk-container {/* jupyter's `normalize.less` sets `[hidden] { display: none; }` but bootstrap.min.css set `[hidden] { display: none !important; }` so we also need the `!important` here to be able to override the default hidden behavior on the sphinx rendered scikit-learn.org. See: https://github.com/scikit-learn/scikit-learn/issues/21755 */display: inline-block !important;position: relative;}#sk-container-id-1 div.sk-text-repr-fallback {display: none;}</style><div id=\"sk-container-id-1\" class=\"sk-top-container\"><div class=\"sk-text-repr-fallback\"><pre>LogisticRegression()</pre><b>In a Jupyter environment, please rerun this cell to show the HTML representation or trust the notebook. <br />On GitHub, the HTML representation is unable to render, please try loading this page with nbviewer.org.</b></div><div class=\"sk-container\" hidden><div class=\"sk-item\"><div class=\"sk-estimator sk-toggleable\"><input class=\"sk-toggleable__control sk-hidden--visually\" id=\"sk-estimator-id-1\" type=\"checkbox\" checked><label for=\"sk-estimator-id-1\" class=\"sk-toggleable__label sk-toggleable__label-arrow\">LogisticRegression</label><div class=\"sk-toggleable__content\"><pre>LogisticRegression()</pre></div></div></div></div></div>"
            ]
          },
          "metadata": {},
          "execution_count": 108
        }
      ],
      "source": [
        "from sklearn.linear_model import LogisticRegression\n",
        "lr = LogisticRegression()\n",
        "lr.fit(X_smt,y_smt)\n"
      ]
    },
    {
      "cell_type": "code",
      "execution_count": 109,
      "metadata": {
        "colab": {
          "base_uri": "https://localhost:8080/"
        },
        "id": "fWtidasr3SM9",
        "outputId": "0d9bbdd3-0e61-42b3-ea43-911df95f6941"
      },
      "outputs": [
        {
          "output_type": "execute_result",
          "data": {
            "text/plain": [
              "array([1, 1, 0, ..., 0, 0, 0])"
            ]
          },
          "metadata": {},
          "execution_count": 109
        }
      ],
      "source": [
        "lr_y_pred = lr.predict(X_test)\n",
        "lr_y_pred"
      ]
    },
    {
      "cell_type": "code",
      "source": [
        "from sklearn.metrics import roc_auc_score\n",
        "log = roc_auc_score(y_test, lr.predict_proba(X_test)[:, 1])\n",
        "print(\"The AUROC Score of Logistic Regression model\",log)"
      ],
      "metadata": {
        "colab": {
          "base_uri": "https://localhost:8080/"
        },
        "id": "y1RBKiB2EIlk",
        "outputId": "429e05d4-673a-4ce3-bd3e-f3f08311a2a6"
      },
      "execution_count": 110,
      "outputs": [
        {
          "output_type": "stream",
          "name": "stdout",
          "text": [
            "The AUROC Score of Logistic Regression model 0.8758569237783397\n"
          ]
        }
      ]
    },
    {
      "cell_type": "code",
      "source": [
        "from sklearn.metrics import accuracy_score, confusion_matrix, precision_score, f1_score, recall_score, classification_report, roc_curve, roc_auc_score"
      ],
      "metadata": {
        "id": "tYDzXbpZGxaH"
      },
      "execution_count": null,
      "outputs": []
    },
    {
      "cell_type": "code",
      "source": [
        "from sklearn.metrics import RocCurveDisplay\n",
        "RocCurveDisplay.from_estimator(lr, X_test, y_test)"
      ],
      "metadata": {
        "colab": {
          "base_uri": "https://localhost:8080/",
          "height": 302
        },
        "id": "4I_VYt64Ldka",
        "outputId": "fdf156ca-a1db-455e-c485-7db51ab22dda"
      },
      "execution_count": 112,
      "outputs": [
        {
          "output_type": "execute_result",
          "data": {
            "text/plain": [
              "<sklearn.metrics._plot.roc_curve.RocCurveDisplay at 0x7fd4a2b2fb50>"
            ]
          },
          "metadata": {},
          "execution_count": 112
        },
        {
          "output_type": "display_data",
          "data": {
            "text/plain": [
              "<Figure size 432x288 with 1 Axes>"
            ],
            "image/png": "[encoded data removed]"
          },
          "metadata": {}
        }
      ]
    },
    {
      "cell_type": "code",
      "execution_count": 113,
      "metadata": {
        "colab": {
          "base_uri": "https://localhost:8080/"
        },
        "id": "M4xR3-Ih15YJ",
        "outputId": "eec8ac7b-23e9-42ad-a485-812d3a474d67"
      },
      "outputs": [
        {
          "output_type": "execute_result",
          "data": {
            "text/plain": [
              "0.7515583259127337"
            ]
          },
          "metadata": {},
          "execution_count": 113
        }
      ],
      "source": [
        "#accuracy score for logistic Regression\n",
        "accuracy_score(y_test,lr_y_pred) #accuracy"
      ]
    },
    {
      "cell_type": "code",
      "execution_count": 114,
      "metadata": {
        "colab": {
          "base_uri": "https://localhost:8080/"
        },
        "id": "NkVSK2TL3evi",
        "outputId": "afef85b1-384a-4580-abd2-e9dbcdbcdf2a"
      },
      "outputs": [
        {
          "output_type": "stream",
          "name": "stdout",
          "text": [
            "[[5850 2085]\n",
            " [ 147  902]]\n",
            "              precision    recall  f1-score   support\n",
            "\n",
            "           0       0.98      0.74      0.84      7935\n",
            "           1       0.30      0.86      0.45      1049\n",
            "\n",
            "    accuracy                           0.75      8984\n",
            "   macro avg       0.64      0.80      0.64      8984\n",
            "weighted avg       0.90      0.75      0.79      8984\n",
            "\n"
          ]
        }
      ],
      "source": [
        "print(confusion_matrix(y_test, lr_y_pred))\n",
        "print(classification_report(y_test,lr_y_pred))"
      ]
    },
    {
      "cell_type": "code",
      "source": [
        "#visualizing confusion matrix\n",
        "cm = confusion_matrix(y_test, lr_y_pred)\n",
        "f = sns.heatmap(cm, annot=True, fmt='d')"
      ],
      "metadata": {
        "colab": {
          "base_uri": "https://localhost:8080/",
          "height": 268
        },
        "id": "Fqm4XIwby4FD",
        "outputId": "de963572-356f-4933-9d9f-7c6cfb5b76da"
      },
      "execution_count": 115,
      "outputs": [
        {
          "output_type": "display_data",
          "data": {
            "text/plain": [
              "<Figure size 432x288 with 2 Axes>"
            ],
            "image/png": "[encoded data removed]"
          },
          "metadata": {}
        }
      ]
    },
    {
      "cell_type": "markdown",
      "metadata": {
        "id": "mpf73Jbb48DF"
      },
      "source": [
        "**KNN Algorithm**"
      ]
    },
    {
      "cell_type": "code",
      "source": [
        "from sklearn.model_selection import cross_val_score"
      ],
      "metadata": {
        "id": "fZzdHsNHp-Jr"
      },
      "execution_count": 116,
      "outputs": []
    },
    {
      "cell_type": "code",
      "execution_count": 117,
      "metadata": {
        "colab": {
          "base_uri": "https://localhost:8080/"
        },
        "id": "nWX6eMJB6qlr",
        "outputId": "9d1ace15-8b3a-4611-d90a-b092f16d4544"
      },
      "outputs": [
        {
          "output_type": "stream",
          "name": "stdout",
          "text": [
            "K value  :  1  train score :  0.8475496062115604  cv score :  0.6365492891103502\n",
            "K value  :  2  train score :  0.8618261764951437  cv score :  0.7027880379578507\n",
            "K value  :  3  train score :  0.8192469317897197  cv score :  0.74228250742096\n",
            "K value  :  4  train score :  0.8303787604708763  cv score :  0.7707464738913887\n",
            "K value  :  5  train score :  0.8029944619152312  cv score :  0.7865228060104875\n",
            "K value  :  6  train score :  0.8123451980074027  cv score :  0.799655003613515\n",
            "K value  :  7  train score :  0.7889683577769738  cv score :  0.8080685084645622\n",
            "K value  :  8  train score :  0.7995435950240726  cv score :  0.8151229427020091\n",
            "K value  :  9  train score :  0.7781704839562519  cv score :  0.8220236674629673\n",
            "K value  :  10  train score :  0.7888013803467565  cv score :  0.8255926062165038\n",
            "K value  :  20  train score :  0.7624189463724154  cv score :  0.8505203619477228\n"
          ]
        }
      ],
      "source": [
        "for i in [1,2,3,4,5,6,7,8,9,10,20]:\n",
        "  knn = KNeighborsClassifier(i)\n",
        "  knn.fit(X_smt, y_smt) \n",
        "  print(\"K value  : \" , i, \" train score : \",knn.score(X_train, y_train) , \" cv score : \", np.mean(cross_val_score(knn, X_train, y_train, cv=10, scoring = \"roc_auc\"))) \n",
        "  "
      ]
    },
    {
      "cell_type": "code",
      "execution_count": 118,
      "metadata": {
        "colab": {
          "base_uri": "https://localhost:8080/",
          "height": 394
        },
        "id": "XCdfSxyr_i5U",
        "outputId": "a4033dc8-ea12-4d75-fd92-a463b64a7919"
      },
      "outputs": [
        {
          "output_type": "execute_result",
          "data": {
            "text/plain": [
              "    K value  train score  cv score\n",
              "0         1     0.847550  0.636549\n",
              "1         2     0.861826  0.702788\n",
              "2         3     0.819247  0.742283\n",
              "3         4     0.830379  0.770746\n",
              "4         5     0.802994  0.786523\n",
              "5         6     0.812345  0.799655\n",
              "6         7     0.788968  0.808069\n",
              "7         8     0.799544  0.815123\n",
              "8         9     0.778170  0.822024\n",
              "9        10     0.788801  0.825593\n",
              "10       20     0.762419  0.850520"
            ],
            "text/html": [
              "\n",
              "  <div id=\"df-bc46659a-8190-4b22-87a1-cb0301e391c6\">\n",
              "    <div class=\"colab-df-container\">\n",
              "      <div>\n",
              "<style scoped>\n",
              "    .dataframe tbody tr th:only-of-type {\n",
              "        vertical-align: middle;\n",
              "    }\n",
              "\n",
              "    .dataframe tbody tr th {\n",
              "        vertical-align: top;\n",
              "    }\n",
              "\n",
              "    .dataframe thead th {\n",
              "        text-align: right;\n",
              "    }\n",
              "</style>\n",
              "<table border=\"1\" class=\"dataframe\">\n",
              "  <thead>\n",
              "    <tr style=\"text-align: right;\">\n",
              "      <th></th>\n",
              "      <th>K value</th>\n",
              "      <th>train score</th>\n",
              "      <th>cv score</th>\n",
              "    </tr>\n",
              "  </thead>\n",
              "  <tbody>\n",
              "    <tr>\n",
              "      <th>0</th>\n",
              "      <td>1</td>\n",
              "      <td>0.847550</td>\n",
              "      <td>0.636549</td>\n",
              "    </tr>\n",
              "    <tr>\n",
              "      <th>1</th>\n",
              "      <td>2</td>\n",
              "      <td>0.861826</td>\n",
              "      <td>0.702788</td>\n",
              "    </tr>\n",
              "    <tr>\n",
              "      <th>2</th>\n",
              "      <td>3</td>\n",
              "      <td>0.819247</td>\n",
              "      <td>0.742283</td>\n",
              "    </tr>\n",
              "    <tr>\n",
              "      <th>3</th>\n",
              "      <td>4</td>\n",
              "      <td>0.830379</td>\n",
              "      <td>0.770746</td>\n",
              "    </tr>\n",
              "    <tr>\n",
              "      <th>4</th>\n",
              "      <td>5</td>\n",
              "      <td>0.802994</td>\n",
              "      <td>0.786523</td>\n",
              "    </tr>\n",
              "    <tr>\n",
              "      <th>5</th>\n",
              "      <td>6</td>\n",
              "      <td>0.812345</td>\n",
              "      <td>0.799655</td>\n",
              "    </tr>\n",
              "    <tr>\n",
              "      <th>6</th>\n",
              "      <td>7</td>\n",
              "      <td>0.788968</td>\n",
              "      <td>0.808069</td>\n",
              "    </tr>\n",
              "    <tr>\n",
              "      <th>7</th>\n",
              "      <td>8</td>\n",
              "      <td>0.799544</td>\n",
              "      <td>0.815123</td>\n",
              "    </tr>\n",
              "    <tr>\n",
              "      <th>8</th>\n",
              "      <td>9</td>\n",
              "      <td>0.778170</td>\n",
              "      <td>0.822024</td>\n",
              "    </tr>\n",
              "    <tr>\n",
              "      <th>9</th>\n",
              "      <td>10</td>\n",
              "      <td>0.788801</td>\n",
              "      <td>0.825593</td>\n",
              "    </tr>\n",
              "    <tr>\n",
              "      <th>10</th>\n",
              "      <td>20</td>\n",
              "      <td>0.762419</td>\n",
              "      <td>0.850520</td>\n",
              "    </tr>\n",
              "  </tbody>\n",
              "</table>\n",
              "</div>\n",
              "      <button class=\"colab-df-convert\" onclick=\"convertToInteractive('df-bc46659a-8190-4b22-87a1-cb0301e391c6')\"\n",
              "              title=\"Convert this dataframe to an interactive table.\"\n",
              "              style=\"display:none;\">\n",
              "        \n",
              "  <svg xmlns=\"http://www.w3.org/2000/svg\" height=\"24px\"viewBox=\"0 0 24 24\"\n",
              "       width=\"24px\">\n",
              "    <path d=\"M0 0h24v24H0V0z\" fill=\"none\"/>\n",
              "    <path d=\"M18.56 5.44l.94 2.06.94-2.06 2.06-.94-2.06-.94-.94-2.06-.94 2.06-2.06.94zm-11 1L8.5 8.5l.94-2.06 2.06-.94-2.06-.94L8.5 2.5l-.94 2.06-2.06.94zm10 10l.94 2.06.94-2.06 2.06-.94-2.06-.94-.94-2.06-.94 2.06-2.06.94z\"/><path d=\"M17.41 7.96l-1.37-1.37c-.4-.4-.92-.59-1.43-.59-.52 0-1.04.2-1.43.59L10.3 9.45l-7.72 7.72c-.78.78-.78 2.05 0 2.83L4 21.41c.39.39.9.59 1.41.59.51 0 1.02-.2 1.41-.59l7.78-7.78 2.81-2.81c.8-.78.8-2.07 0-2.86zM5.41 20L4 18.59l7.72-7.72 1.47 1.35L5.41 20z\"/>\n",
              "  </svg>\n",
              "      </button>\n",
              "      \n",
              "  <style>\n",
              "    .colab-df-container {\n",
              "      display:flex;\n",
              "      flex-wrap:wrap;\n",
              "      gap: 12px;\n",
              "    }\n",
              "\n",
              "    .colab-df-convert {\n",
              "      background-color: #E8F0FE;\n",
              "      border: none;\n",
              "      border-radius: 50%;\n",
              "      cursor: pointer;\n",
              "      display: none;\n",
              "      fill: #1967D2;\n",
              "      height: 32px;\n",
              "      padding: 0 0 0 0;\n",
              "      width: 32px;\n",
              "    }\n",
              "\n",
              "    .colab-df-convert:hover {\n",
              "      background-color: #E2EBFA;\n",
              "      box-shadow: 0px 1px 2px rgba(60, 64, 67, 0.3), 0px 1px 3px 1px rgba(60, 64, 67, 0.15);\n",
              "      fill: #174EA6;\n",
              "    }\n",
              "\n",
              "    [theme=dark] .colab-df-convert {\n",
              "      background-color: #3B4455;\n",
              "      fill: #D2E3FC;\n",
              "    }\n",
              "\n",
              "    [theme=dark] .colab-df-convert:hover {\n",
              "      background-color: #434B5C;\n",
              "      box-shadow: 0px 1px 3px 1px rgba(0, 0, 0, 0.15);\n",
              "      filter: drop-shadow(0px 1px 2px rgba(0, 0, 0, 0.3));\n",
              "      fill: #FFFFFF;\n",
              "    }\n",
              "  </style>\n",
              "\n",
              "      <script>\n",
              "        const buttonEl =\n",
              "          document.querySelector('#df-bc46659a-8190-4b22-87a1-cb0301e391c6 button.colab-df-convert');\n",
              "        buttonEl.style.display =\n",
              "          google.colab.kernel.accessAllowed ? 'block' : 'none';\n",
              "\n",
              "        async function convertToInteractive(key) {\n",
              "          const element = document.querySelector('#df-bc46659a-8190-4b22-87a1-cb0301e391c6');\n",
              "          const dataTable =\n",
              "            await google.colab.kernel.invokeFunction('convertToInteractive',\n",
              "                                                     [key], {});\n",
              "          if (!dataTable) return;\n",
              "\n",
              "          const docLinkHtml = 'Like what you see? Visit the ' +\n",
              "            '<a target=\"_blank\" href=https://colab.research.google.com/notebooks/data_table.ipynb>data table notebook</a>'\n",
              "            + ' to learn more about interactive tables.';\n",
              "          element.innerHTML = '';\n",
              "          dataTable['output_type'] = 'display_data';\n",
              "          await google.colab.output.renderOutput(dataTable, element);\n",
              "          const docLink = document.createElement('div');\n",
              "          docLink.innerHTML = docLinkHtml;\n",
              "          element.appendChild(docLink);\n",
              "        }\n",
              "      </script>\n",
              "    </div>\n",
              "  </div>\n",
              "  "
            ]
          },
          "metadata": {},
          "execution_count": 118
        }
      ],
      "source": [
        "knn_dict = {'K value':[],'train score':[],'cv score':[]}\n",
        "for i in [1,2,3,4,5,6,7,8,9,10,20]:\n",
        "  knn = KNeighborsClassifier(i)\n",
        "  knn.fit(X_smt, y_smt)\n",
        "  knn_dict['K value'].append(i)\n",
        "  knn_dict['train score'].append(knn.score(X_train, y_train))\n",
        "  knn_dict['cv score'].append(np.mean(cross_val_score(knn, X_train, y_train, cv=10, scoring = \"roc_auc\")))\n",
        "\n",
        "pd.DataFrame(knn_dict)"
      ]
    },
    {
      "cell_type": "code",
      "execution_count": 119,
      "metadata": {
        "id": "-loVHNXdCf_7",
        "colab": {
          "base_uri": "https://localhost:8080/",
          "height": 74
        },
        "outputId": "36508236-5fe8-49c0-97ee-65dc07de5807"
      },
      "outputs": [
        {
          "output_type": "execute_result",
          "data": {
            "text/plain": [
              "KNeighborsClassifier(n_neighbors=10)"
            ],
            "text/html": [
              "<style>#sk-container-id-2 {color: black;background-color: white;}#sk-container-id-2 pre{padding: 0;}#sk-container-id-2 div.sk-toggleable {background-color: white;}#sk-container-id-2 label.sk-toggleable__label {cursor: pointer;display: block;width: 100%;margin-bottom: 0;padding: 0.3em;box-sizing: border-box;text-align: center;}#sk-container-id-2 label.sk-toggleable__label-arrow:before {content: \"▸\";float: left;margin-right: 0.25em;color: #696969;}#sk-container-id-2 label.sk-toggleable__label-arrow:hover:before {color: black;}#sk-container-id-2 div.sk-estimator:hover label.sk-toggleable__label-arrow:before {color: black;}#sk-container-id-2 div.sk-toggleable__content {max-height: 0;max-width: 0;overflow: hidden;text-align: left;background-color: #f0f8ff;}#sk-container-id-2 div.sk-toggleable__content pre {margin: 0.2em;color: black;border-radius: 0.25em;background-color: #f0f8ff;}#sk-container-id-2 input.sk-toggleable__control:checked~div.sk-toggleable__content {max-height: 200px;max-width: 100%;overflow: auto;}#sk-container-id-2 input.sk-toggleable__control:checked~label.sk-toggleable__label-arrow:before {content: \"▾\";}#sk-container-id-2 div.sk-estimator input.sk-toggleable__control:checked~label.sk-toggleable__label {background-color: #d4ebff;}#sk-container-id-2 div.sk-label input.sk-toggleable__control:checked~label.sk-toggleable__label {background-color: #d4ebff;}#sk-container-id-2 input.sk-hidden--visually {border: 0;clip: rect(1px 1px 1px 1px);clip: rect(1px, 1px, 1px, 1px);height: 1px;margin: -1px;overflow: hidden;padding: 0;position: absolute;width: 1px;}#sk-container-id-2 div.sk-estimator {font-family: monospace;background-color: #f0f8ff;border: 1px dotted black;border-radius: 0.25em;box-sizing: border-box;margin-bottom: 0.5em;}#sk-container-id-2 div.sk-estimator:hover {background-color: #d4ebff;}#sk-container-id-2 div.sk-parallel-item::after {content: \"\";width: 100%;border-bottom: 1px solid gray;flex-grow: 1;}#sk-container-id-2 div.sk-label:hover label.sk-toggleable__label {background-color: #d4ebff;}#sk-container-id-2 div.sk-serial::before {content: \"\";position: absolute;border-left: 1px solid gray;box-sizing: border-box;top: 0;bottom: 0;left: 50%;z-index: 0;}#sk-container-id-2 div.sk-serial {display: flex;flex-direction: column;align-items: center;background-color: white;padding-right: 0.2em;padding-left: 0.2em;position: relative;}#sk-container-id-2 div.sk-item {position: relative;z-index: 1;}#sk-container-id-2 div.sk-parallel {display: flex;align-items: stretch;justify-content: center;background-color: white;position: relative;}#sk-container-id-2 div.sk-item::before, #sk-container-id-2 div.sk-parallel-item::before {content: \"\";position: absolute;border-left: 1px solid gray;box-sizing: border-box;top: 0;bottom: 0;left: 50%;z-index: -1;}#sk-container-id-2 div.sk-parallel-item {display: flex;flex-direction: column;z-index: 1;position: relative;background-color: white;}#sk-container-id-2 div.sk-parallel-item:first-child::after {align-self: flex-end;width: 50%;}#sk-container-id-2 div.sk-parallel-item:last-child::after {align-self: flex-start;width: 50%;}#sk-container-id-2 div.sk-parallel-item:only-child::after {width: 0;}#sk-container-id-2 div.sk-dashed-wrapped {border: 1px dashed gray;margin: 0 0.4em 0.5em 0.4em;box-sizing: border-box;padding-bottom: 0.4em;background-color: white;}#sk-container-id-2 div.sk-label label {font-family: monospace;font-weight: bold;display: inline-block;line-height: 1.2em;}#sk-container-id-2 div.sk-label-container {text-align: center;}#sk-container-id-2 div.sk-container {/* jupyter's `normalize.less` sets `[hidden] { display: none; }` but bootstrap.min.css set `[hidden] { display: none !important; }` so we also need the `!important` here to be able to override the default hidden behavior on the sphinx rendered scikit-learn.org. See: https://github.com/scikit-learn/scikit-learn/issues/21755 */display: inline-block !important;position: relative;}#sk-container-id-2 div.sk-text-repr-fallback {display: none;}</style><div id=\"sk-container-id-2\" class=\"sk-top-container\"><div class=\"sk-text-repr-fallback\"><pre>KNeighborsClassifier(n_neighbors=10)</pre><b>In a Jupyter environment, please rerun this cell to show the HTML representation or trust the notebook. <br />On GitHub, the HTML representation is unable to render, please try loading this page with nbviewer.org.</b></div><div class=\"sk-container\" hidden><div class=\"sk-item\"><div class=\"sk-estimator sk-toggleable\"><input class=\"sk-toggleable__control sk-hidden--visually\" id=\"sk-estimator-id-2\" type=\"checkbox\" checked><label for=\"sk-estimator-id-2\" class=\"sk-toggleable__label sk-toggleable__label-arrow\">KNeighborsClassifier</label><div class=\"sk-toggleable__content\"><pre>KNeighborsClassifier(n_neighbors=10)</pre></div></div></div></div></div>"
            ]
          },
          "metadata": {},
          "execution_count": 119
        }
      ],
      "source": [
        "#fiiting the model\n",
        "knn = KNeighborsClassifier(10) #k-value = 10\n",
        "knn.fit(X_smt,y_smt)\n"
      ]
    },
    {
      "cell_type": "code",
      "source": [
        "knn_y_pred=knn.predict(X_test)"
      ],
      "metadata": {
        "id": "InAi7JQvtlBY"
      },
      "execution_count": 120,
      "outputs": []
    },
    {
      "cell_type": "code",
      "source": [
        "from sklearn.metrics import roc_auc_score\n",
        "knn_log = roc_auc_score(y_test, knn.predict_proba(X_test)[:, 1])\n",
        "print(\"The AUROC Score of K-Nearest-Neighbour model\",knn_log)"
      ],
      "metadata": {
        "colab": {
          "base_uri": "https://localhost:8080/"
        },
        "id": "RgnTyiD-sID9",
        "outputId": "b95c890e-9f8d-4156-8af3-38224e0748f5"
      },
      "execution_count": 121,
      "outputs": [
        {
          "output_type": "stream",
          "name": "stdout",
          "text": [
            "The AUROC Score of K-Nearest-Neighbour model 0.8314579913176832\n"
          ]
        }
      ]
    },
    {
      "cell_type": "code",
      "source": [
        "#plotting ROC Curve\n",
        "RocCurveDisplay.from_estimator(knn, X_test, y_test)"
      ],
      "metadata": {
        "colab": {
          "base_uri": "https://localhost:8080/",
          "height": 302
        },
        "id": "K_XJGvCjraNq",
        "outputId": "660187af-b6a9-4c14-b3cf-bbe95a3d8b86"
      },
      "execution_count": 122,
      "outputs": [
        {
          "output_type": "execute_result",
          "data": {
            "text/plain": [
              "<sklearn.metrics._plot.roc_curve.RocCurveDisplay at 0x7fd4a5636820>"
            ]
          },
          "metadata": {},
          "execution_count": 122
        },
        {
          "output_type": "display_data",
          "data": {
            "text/plain": [
              "<Figure size 432x288 with 1 Axes>"
            ],
            "image/png": "[encoded data removed]"
          },
          "metadata": {}
        }
      ]
    },
    {
      "cell_type": "code",
      "execution_count": 123,
      "metadata": {
        "colab": {
          "base_uri": "https://localhost:8080/"
        },
        "id": "a9vSGeyNF8sL",
        "outputId": "78ee81d9-b7ff-49cd-f5bb-d3664715aa54"
      },
      "outputs": [
        {
          "output_type": "stream",
          "name": "stdout",
          "text": [
            "              precision    recall  f1-score   support\n",
            "\n",
            "           0       0.97      0.74      0.84      7935\n",
            "           1       0.29      0.81      0.43      1049\n",
            "\n",
            "    accuracy                           0.75      8984\n",
            "   macro avg       0.63      0.78      0.64      8984\n",
            "weighted avg       0.89      0.75      0.79      8984\n",
            "\n"
          ]
        }
      ],
      "source": [
        "print(classification_report(y_test,knn_y_pred))"
      ]
    },
    {
      "cell_type": "code",
      "source": [
        "#visualizing confusion matrix\n",
        "cm = confusion_matrix(y_test, knn_y_pred)\n",
        "f = sns.heatmap(cm, annot=True, fmt='d')"
      ],
      "metadata": {
        "colab": {
          "base_uri": "https://localhost:8080/",
          "height": 268
        },
        "id": "1wMtRhZO1euE",
        "outputId": "5433bc98-9802-4066-959f-5485b1b8e237"
      },
      "execution_count": 124,
      "outputs": [
        {
          "output_type": "display_data",
          "data": {
            "text/plain": [
              "<Figure size 432x288 with 2 Axes>"
            ],
            "image/png": "[encoded data removed]"
          },
          "metadata": {}
        }
      ]
    },
    {
      "cell_type": "markdown",
      "metadata": {
        "id": "MSf3395oRNG8"
      },
      "source": [
        "**Decision Tree**"
      ]
    },
    {
      "cell_type": "code",
      "execution_count": 125,
      "metadata": {
        "colab": {
          "base_uri": "https://localhost:8080/"
        },
        "id": "d6E9ZQmVF8wk",
        "outputId": "e3e1e1d4-1001-41ac-d3e4-a8cd0222e346"
      },
      "outputs": [
        {
          "output_type": "stream",
          "name": "stdout",
          "text": [
            "Depth  :  1  Training Accuracy :  0.640163637881613  Cross val score :  0.8829488288068946\n",
            "Depth  :  2  Training Accuracy :  0.6782901511145744  Cross val score :  0.8913532248524421\n",
            "Depth  :  3  Training Accuracy :  0.6749227729385244  Cross val score :  0.8983107417951279\n",
            "Depth  :  4  Training Accuracy :  0.7710182840286088  Cross val score :  0.89872809632159\n",
            "Depth  :  5  Training Accuracy :  0.7662872568391172  Cross val score :  0.9003143672208729\n",
            "Depth  :  6  Training Accuracy :  0.8128739598697576  Cross val score :  0.8988395013428849\n",
            "Depth  :  7  Training Accuracy :  0.8280410764478334  Cross val score :  0.898672448018863\n",
            "Depth  :  8  Training Accuracy :  0.8457963431942782  Cross val score :  0.8986167687401816\n",
            "Depth  :  9  Training Accuracy :  0.8503047338101467  Cross val score :  0.8976427066107799\n",
            "Depth  :  10  Training Accuracy :  0.8552027384298556  Cross val score :  0.8960843295587584\n",
            "Depth  :  20  Training Accuracy :  0.9134778615757103  Cross val score :  0.8765760139862631\n"
          ]
        }
      ],
      "source": [
        "for depth in [1,2,3,4,5,6,7,8,9,10,20]:\n",
        "  dt = DecisionTreeClassifier(max_depth=depth) \n",
        "  dt.fit(X_smt, y_smt) \n",
        "  trainAccuracy = accuracy_score(y_train, dt.predict(X_train)) \n",
        "  dt = DecisionTreeClassifier(max_depth=depth) \n",
        "  valAccuracy = cross_val_score(dt, X_train, y_train, cv=10) \n",
        "  print(\"Depth  : \", depth, \" Training Accuracy : \", trainAccuracy, \" Cross val score : \" ,np.mean(valAccuracy))"
      ]
    },
    {
      "cell_type": "code",
      "execution_count": null,
      "metadata": {
        "colab": {
          "base_uri": "https://localhost:8080/",
          "height": 394
        },
        "id": "xoeKuPL-M5dH",
        "outputId": "1f551f69-04eb-4437-ba72-1ada4fe96f7d"
      },
      "outputs": [
        {
          "output_type": "execute_result",
          "data": {
            "text/plain": [
              "    depth  train score  cv score\n",
              "0       1     0.641889  0.883255\n",
              "1       2     0.578911  0.890463\n",
              "2       3     0.695823  0.896808\n",
              "3       4     0.712548  0.899117\n",
              "4       5     0.809033  0.899229\n",
              "5       6     0.758272  0.899285\n",
              "6       7     0.788968  0.898338\n",
              "7       8     0.822169  0.897253\n",
              "8       9     0.830407  0.896168\n",
              "9      10     0.828820  0.894331\n",
              "10     20     0.910166  0.876409"
            ],
            "text/html": [
              "\n",
              "  <div id=\"df-84820889-1e41-4cbb-83d2-fca0a5ca8b93\">\n",
              "    <div class=\"colab-df-container\">\n",
              "      <div>\n",
              "<style scoped>\n",
              "    .dataframe tbody tr th:only-of-type {\n",
              "        vertical-align: middle;\n",
              "    }\n",
              "\n",
              "    .dataframe tbody tr th {\n",
              "        vertical-align: top;\n",
              "    }\n",
              "\n",
              "    .dataframe thead th {\n",
              "        text-align: right;\n",
              "    }\n",
              "</style>\n",
              "<table border=\"1\" class=\"dataframe\">\n",
              "  <thead>\n",
              "    <tr style=\"text-align: right;\">\n",
              "      <th></th>\n",
              "      <th>depth</th>\n",
              "      <th>train score</th>\n",
              "      <th>cv score</th>\n",
              "    </tr>\n",
              "  </thead>\n",
              "  <tbody>\n",
              "    <tr>\n",
              "      <th>0</th>\n",
              "      <td>1</td>\n",
              "      <td>0.641889</td>\n",
              "      <td>0.883255</td>\n",
              "    </tr>\n",
              "    <tr>\n",
              "      <th>1</th>\n",
              "      <td>2</td>\n",
              "      <td>0.578911</td>\n",
              "      <td>0.890463</td>\n",
              "    </tr>\n",
              "    <tr>\n",
              "      <th>2</th>\n",
              "      <td>3</td>\n",
              "      <td>0.695823</td>\n",
              "      <td>0.896808</td>\n",
              "    </tr>\n",
              "    <tr>\n",
              "      <th>3</th>\n",
              "      <td>4</td>\n",
              "      <td>0.712548</td>\n",
              "      <td>0.899117</td>\n",
              "    </tr>\n",
              "    <tr>\n",
              "      <th>4</th>\n",
              "      <td>5</td>\n",
              "      <td>0.809033</td>\n",
              "      <td>0.899229</td>\n",
              "    </tr>\n",
              "    <tr>\n",
              "      <th>5</th>\n",
              "      <td>6</td>\n",
              "      <td>0.758272</td>\n",
              "      <td>0.899285</td>\n",
              "    </tr>\n",
              "    <tr>\n",
              "      <th>6</th>\n",
              "      <td>7</td>\n",
              "      <td>0.788968</td>\n",
              "      <td>0.898338</td>\n",
              "    </tr>\n",
              "    <tr>\n",
              "      <th>7</th>\n",
              "      <td>8</td>\n",
              "      <td>0.822169</td>\n",
              "      <td>0.897253</td>\n",
              "    </tr>\n",
              "    <tr>\n",
              "      <th>8</th>\n",
              "      <td>9</td>\n",
              "      <td>0.830407</td>\n",
              "      <td>0.896168</td>\n",
              "    </tr>\n",
              "    <tr>\n",
              "      <th>9</th>\n",
              "      <td>10</td>\n",
              "      <td>0.828820</td>\n",
              "      <td>0.894331</td>\n",
              "    </tr>\n",
              "    <tr>\n",
              "      <th>10</th>\n",
              "      <td>20</td>\n",
              "      <td>0.910166</td>\n",
              "      <td>0.876409</td>\n",
              "    </tr>\n",
              "  </tbody>\n",
              "</table>\n",
              "</div>\n",
              "      <button class=\"colab-df-convert\" onclick=\"convertToInteractive('df-84820889-1e41-4cbb-83d2-fca0a5ca8b93')\"\n",
              "              title=\"Convert this dataframe to an interactive table.\"\n",
              "              style=\"display:none;\">\n",
              "        \n",
              "  <svg xmlns=\"http://www.w3.org/2000/svg\" height=\"24px\"viewBox=\"0 0 24 24\"\n",
              "       width=\"24px\">\n",
              "    <path d=\"M0 0h24v24H0V0z\" fill=\"none\"/>\n",
              "    <path d=\"M18.56 5.44l.94 2.06.94-2.06 2.06-.94-2.06-.94-.94-2.06-.94 2.06-2.06.94zm-11 1L8.5 8.5l.94-2.06 2.06-.94-2.06-.94L8.5 2.5l-.94 2.06-2.06.94zm10 10l.94 2.06.94-2.06 2.06-.94-2.06-.94-.94-2.06-.94 2.06-2.06.94z\"/><path d=\"M17.41 7.96l-1.37-1.37c-.4-.4-.92-.59-1.43-.59-.52 0-1.04.2-1.43.59L10.3 9.45l-7.72 7.72c-.78.78-.78 2.05 0 2.83L4 21.41c.39.39.9.59 1.41.59.51 0 1.02-.2 1.41-.59l7.78-7.78 2.81-2.81c.8-.78.8-2.07 0-2.86zM5.41 20L4 18.59l7.72-7.72 1.47 1.35L5.41 20z\"/>\n",
              "  </svg>\n",
              "      </button>\n",
              "      \n",
              "  <style>\n",
              "    .colab-df-container {\n",
              "      display:flex;\n",
              "      flex-wrap:wrap;\n",
              "      gap: 12px;\n",
              "    }\n",
              "\n",
              "    .colab-df-convert {\n",
              "      background-color: #E8F0FE;\n",
              "      border: none;\n",
              "      border-radius: 50%;\n",
              "      cursor: pointer;\n",
              "      display: none;\n",
              "      fill: #1967D2;\n",
              "      height: 32px;\n",
              "      padding: 0 0 0 0;\n",
              "      width: 32px;\n",
              "    }\n",
              "\n",
              "    .colab-df-convert:hover {\n",
              "      background-color: #E2EBFA;\n",
              "      box-shadow: 0px 1px 2px rgba(60, 64, 67, 0.3), 0px 1px 3px 1px rgba(60, 64, 67, 0.15);\n",
              "      fill: #174EA6;\n",
              "    }\n",
              "\n",
              "    [theme=dark] .colab-df-convert {\n",
              "      background-color: #3B4455;\n",
              "      fill: #D2E3FC;\n",
              "    }\n",
              "\n",
              "    [theme=dark] .colab-df-convert:hover {\n",
              "      background-color: #434B5C;\n",
              "      box-shadow: 0px 1px 3px 1px rgba(0, 0, 0, 0.15);\n",
              "      filter: drop-shadow(0px 1px 2px rgba(0, 0, 0, 0.3));\n",
              "      fill: #FFFFFF;\n",
              "    }\n",
              "  </style>\n",
              "\n",
              "      <script>\n",
              "        const buttonEl =\n",
              "          document.querySelector('#df-84820889-1e41-4cbb-83d2-fca0a5ca8b93 button.colab-df-convert');\n",
              "        buttonEl.style.display =\n",
              "          google.colab.kernel.accessAllowed ? 'block' : 'none';\n",
              "\n",
              "        async function convertToInteractive(key) {\n",
              "          const element = document.querySelector('#df-84820889-1e41-4cbb-83d2-fca0a5ca8b93');\n",
              "          const dataTable =\n",
              "            await google.colab.kernel.invokeFunction('convertToInteractive',\n",
              "                                                     [key], {});\n",
              "          if (!dataTable) return;\n",
              "\n",
              "          const docLinkHtml = 'Like what you see? Visit the ' +\n",
              "            '<a target=\"_blank\" href=https://colab.research.google.com/notebooks/data_table.ipynb>data table notebook</a>'\n",
              "            + ' to learn more about interactive tables.';\n",
              "          element.innerHTML = '';\n",
              "          dataTable['output_type'] = 'display_data';\n",
              "          await google.colab.output.renderOutput(dataTable, element);\n",
              "          const docLink = document.createElement('div');\n",
              "          docLink.innerHTML = docLinkHtml;\n",
              "          element.appendChild(docLink);\n",
              "        }\n",
              "      </script>\n",
              "    </div>\n",
              "  </div>\n",
              "  "
            ]
          },
          "metadata": {},
          "execution_count": 131
        }
      ],
      "source": [
        "dt_dict = {'depth':[],'train score':[],'cv score':[]}\n",
        "for depth in [1,2,3,4,5,6,7,8,9,10,20]:\n",
        "  dt = DecisionTreeClassifier(max_depth=depth) \n",
        "  dt.fit(X_smt, y_smt) \n",
        "  dt_dict['depth'].append(depth)\n",
        "  dt_dict['train score'].append(accuracy_score(y_train, dt.predict(X_train)))\n",
        "  dt_dict['cv score'].append(np.mean(cross_val_score(dt, X_train, y_train, cv=10)))\n",
        "\n",
        "pd.DataFrame(dt_dict)"
      ]
    },
    {
      "cell_type": "code",
      "execution_count": 126,
      "metadata": {
        "id": "fTrU8W9CIX84",
        "colab": {
          "base_uri": "https://localhost:8080/",
          "height": 74
        },
        "outputId": "fad648b0-62f0-4b99-f8ba-1617d953d156"
      },
      "outputs": [
        {
          "output_type": "execute_result",
          "data": {
            "text/plain": [
              "DecisionTreeClassifier(max_depth=7)"
            ],
            "text/html": [
              "<style>#sk-container-id-3 {color: black;background-color: white;}#sk-container-id-3 pre{padding: 0;}#sk-container-id-3 div.sk-toggleable {background-color: white;}#sk-container-id-3 label.sk-toggleable__label {cursor: pointer;display: block;width: 100%;margin-bottom: 0;padding: 0.3em;box-sizing: border-box;text-align: center;}#sk-container-id-3 label.sk-toggleable__label-arrow:before {content: \"▸\";float: left;margin-right: 0.25em;color: #696969;}#sk-container-id-3 label.sk-toggleable__label-arrow:hover:before {color: black;}#sk-container-id-3 div.sk-estimator:hover label.sk-toggleable__label-arrow:before {color: black;}#sk-container-id-3 div.sk-toggleable__content {max-height: 0;max-width: 0;overflow: hidden;text-align: left;background-color: #f0f8ff;}#sk-container-id-3 div.sk-toggleable__content pre {margin: 0.2em;color: black;border-radius: 0.25em;background-color: #f0f8ff;}#sk-container-id-3 input.sk-toggleable__control:checked~div.sk-toggleable__content {max-height: 200px;max-width: 100%;overflow: auto;}#sk-container-id-3 input.sk-toggleable__control:checked~label.sk-toggleable__label-arrow:before {content: \"▾\";}#sk-container-id-3 div.sk-estimator input.sk-toggleable__control:checked~label.sk-toggleable__label {background-color: #d4ebff;}#sk-container-id-3 div.sk-label input.sk-toggleable__control:checked~label.sk-toggleable__label {background-color: #d4ebff;}#sk-container-id-3 input.sk-hidden--visually {border: 0;clip: rect(1px 1px 1px 1px);clip: rect(1px, 1px, 1px, 1px);height: 1px;margin: -1px;overflow: hidden;padding: 0;position: absolute;width: 1px;}#sk-container-id-3 div.sk-estimator {font-family: monospace;background-color: #f0f8ff;border: 1px dotted black;border-radius: 0.25em;box-sizing: border-box;margin-bottom: 0.5em;}#sk-container-id-3 div.sk-estimator:hover {background-color: #d4ebff;}#sk-container-id-3 div.sk-parallel-item::after {content: \"\";width: 100%;border-bottom: 1px solid gray;flex-grow: 1;}#sk-container-id-3 div.sk-label:hover label.sk-toggleable__label {background-color: #d4ebff;}#sk-container-id-3 div.sk-serial::before {content: \"\";position: absolute;border-left: 1px solid gray;box-sizing: border-box;top: 0;bottom: 0;left: 50%;z-index: 0;}#sk-container-id-3 div.sk-serial {display: flex;flex-direction: column;align-items: center;background-color: white;padding-right: 0.2em;padding-left: 0.2em;position: relative;}#sk-container-id-3 div.sk-item {position: relative;z-index: 1;}#sk-container-id-3 div.sk-parallel {display: flex;align-items: stretch;justify-content: center;background-color: white;position: relative;}#sk-container-id-3 div.sk-item::before, #sk-container-id-3 div.sk-parallel-item::before {content: \"\";position: absolute;border-left: 1px solid gray;box-sizing: border-box;top: 0;bottom: 0;left: 50%;z-index: -1;}#sk-container-id-3 div.sk-parallel-item {display: flex;flex-direction: column;z-index: 1;position: relative;background-color: white;}#sk-container-id-3 div.sk-parallel-item:first-child::after {align-self: flex-end;width: 50%;}#sk-container-id-3 div.sk-parallel-item:last-child::after {align-self: flex-start;width: 50%;}#sk-container-id-3 div.sk-parallel-item:only-child::after {width: 0;}#sk-container-id-3 div.sk-dashed-wrapped {border: 1px dashed gray;margin: 0 0.4em 0.5em 0.4em;box-sizing: border-box;padding-bottom: 0.4em;background-color: white;}#sk-container-id-3 div.sk-label label {font-family: monospace;font-weight: bold;display: inline-block;line-height: 1.2em;}#sk-container-id-3 div.sk-label-container {text-align: center;}#sk-container-id-3 div.sk-container {/* jupyter's `normalize.less` sets `[hidden] { display: none; }` but bootstrap.min.css set `[hidden] { display: none !important; }` so we also need the `!important` here to be able to override the default hidden behavior on the sphinx rendered scikit-learn.org. See: https://github.com/scikit-learn/scikit-learn/issues/21755 */display: inline-block !important;position: relative;}#sk-container-id-3 div.sk-text-repr-fallback {display: none;}</style><div id=\"sk-container-id-3\" class=\"sk-top-container\"><div class=\"sk-text-repr-fallback\"><pre>DecisionTreeClassifier(max_depth=7)</pre><b>In a Jupyter environment, please rerun this cell to show the HTML representation or trust the notebook. <br />On GitHub, the HTML representation is unable to render, please try loading this page with nbviewer.org.</b></div><div class=\"sk-container\" hidden><div class=\"sk-item\"><div class=\"sk-estimator sk-toggleable\"><input class=\"sk-toggleable__control sk-hidden--visually\" id=\"sk-estimator-id-3\" type=\"checkbox\" checked><label for=\"sk-estimator-id-3\" class=\"sk-toggleable__label sk-toggleable__label-arrow\">DecisionTreeClassifier</label><div class=\"sk-toggleable__content\"><pre>DecisionTreeClassifier(max_depth=7)</pre></div></div></div></div></div>"
            ]
          },
          "metadata": {},
          "execution_count": 126
        }
      ],
      "source": [
        "#fitting the model\n",
        "dt = DecisionTreeClassifier(max_depth=7) \n",
        "dt.fit(X_smt, y_smt)\n"
      ]
    },
    {
      "cell_type": "code",
      "source": [
        "dt_y_pred = dt.predict(X_test)"
      ],
      "metadata": {
        "id": "j5XMWFE5taUM"
      },
      "execution_count": 127,
      "outputs": []
    },
    {
      "cell_type": "code",
      "source": [
        "from sklearn.metrics import roc_auc_score\n",
        "dt_log = roc_auc_score(y_test, dt.predict_proba(X_test)[:, 1])\n",
        "print(\"The AUROC Score of Decision tree Classifier model\",dt_log)"
      ],
      "metadata": {
        "colab": {
          "base_uri": "https://localhost:8080/"
        },
        "id": "yGgvIvGms6-A",
        "outputId": "21ab514e-ba5c-43a6-c8f2-f4cf03984f06"
      },
      "execution_count": 128,
      "outputs": [
        {
          "output_type": "stream",
          "name": "stdout",
          "text": [
            "The AUROC Score of Decision tree Classifier model 0.8866355150853305\n"
          ]
        }
      ]
    },
    {
      "cell_type": "code",
      "execution_count": 129,
      "metadata": {
        "colab": {
          "base_uri": "https://localhost:8080/",
          "height": 302
        },
        "id": "gqlbgdGqIeAz",
        "outputId": "0ebaab48-b006-4995-e533-89a016692f50"
      },
      "outputs": [
        {
          "output_type": "execute_result",
          "data": {
            "text/plain": [
              "<sklearn.metrics._plot.roc_curve.RocCurveDisplay at 0x7fd4a5ac4a00>"
            ]
          },
          "metadata": {},
          "execution_count": 129
        },
        {
          "output_type": "display_data",
          "data": {
            "text/plain": [
              "<Figure size 432x288 with 1 Axes>"
            ],
            "image/png": "[encoded data removed]"
          },
          "metadata": {}
        }
      ],
      "source": [
        "#plotting ROC Curve\n",
        "RocCurveDisplay.from_estimator(dt, X_test, y_test)"
      ]
    },
    {
      "cell_type": "code",
      "execution_count": 130,
      "metadata": {
        "colab": {
          "base_uri": "https://localhost:8080/"
        },
        "id": "ijZ2VResIf1q",
        "outputId": "2253884c-6c52-40c2-f9da-bd28bcc871b6"
      },
      "outputs": [
        {
          "output_type": "stream",
          "name": "stdout",
          "text": [
            "              precision    recall  f1-score   support\n",
            "\n",
            "           0       0.97      0.83      0.89      7935\n",
            "           1       0.39      0.82      0.52      1049\n",
            "\n",
            "    accuracy                           0.83      8984\n",
            "   macro avg       0.68      0.82      0.71      8984\n",
            "weighted avg       0.90      0.83      0.85      8984\n",
            "\n"
          ]
        }
      ],
      "source": [
        "print(classification_report(y_test,dt_y_pred))"
      ]
    },
    {
      "cell_type": "code",
      "source": [
        "#visualizing confusion matrix\n",
        "cm = confusion_matrix(y_test, dt_y_pred)\n",
        "f = sns.heatmap(cm, annot=True, fmt='d')"
      ],
      "metadata": {
        "colab": {
          "base_uri": "https://localhost:8080/",
          "height": 268
        },
        "id": "iucUfxBS1q1B",
        "outputId": "7d6a9199-a648-4756-8b0b-575fddeeb51f"
      },
      "execution_count": 131,
      "outputs": [
        {
          "output_type": "display_data",
          "data": {
            "text/plain": [
              "<Figure size 432x288 with 2 Axes>"
            ],
            "image/png": "[encoded data removed]"
          },
          "metadata": {}
        }
      ]
    },
    {
      "cell_type": "markdown",
      "metadata": {
        "id": "-KzQ8-TMI02M"
      },
      "source": [
        "**Random Forest classifier**"
      ]
    },
    {
      "cell_type": "code",
      "execution_count": 132,
      "metadata": {
        "colab": {
          "base_uri": "https://localhost:8080/",
          "height": 74
        },
        "id": "2jukULL9I4CU",
        "outputId": "31252308-8ae6-4bec-9b95-a1465c1c696f"
      },
      "outputs": [
        {
          "output_type": "execute_result",
          "data": {
            "text/plain": [
              "RandomForestClassifier(max_depth=7)"
            ],
            "text/html": [
              "<style>#sk-container-id-4 {color: black;background-color: white;}#sk-container-id-4 pre{padding: 0;}#sk-container-id-4 div.sk-toggleable {background-color: white;}#sk-container-id-4 label.sk-toggleable__label {cursor: pointer;display: block;width: 100%;margin-bottom: 0;padding: 0.3em;box-sizing: border-box;text-align: center;}#sk-container-id-4 label.sk-toggleable__label-arrow:before {content: \"▸\";float: left;margin-right: 0.25em;color: #696969;}#sk-container-id-4 label.sk-toggleable__label-arrow:hover:before {color: black;}#sk-container-id-4 div.sk-estimator:hover label.sk-toggleable__label-arrow:before {color: black;}#sk-container-id-4 div.sk-toggleable__content {max-height: 0;max-width: 0;overflow: hidden;text-align: left;background-color: #f0f8ff;}#sk-container-id-4 div.sk-toggleable__content pre {margin: 0.2em;color: black;border-radius: 0.25em;background-color: #f0f8ff;}#sk-container-id-4 input.sk-toggleable__control:checked~div.sk-toggleable__content {max-height: 200px;max-width: 100%;overflow: auto;}#sk-container-id-4 input.sk-toggleable__control:checked~label.sk-toggleable__label-arrow:before {content: \"▾\";}#sk-container-id-4 div.sk-estimator input.sk-toggleable__control:checked~label.sk-toggleable__label {background-color: #d4ebff;}#sk-container-id-4 div.sk-label input.sk-toggleable__control:checked~label.sk-toggleable__label {background-color: #d4ebff;}#sk-container-id-4 input.sk-hidden--visually {border: 0;clip: rect(1px 1px 1px 1px);clip: rect(1px, 1px, 1px, 1px);height: 1px;margin: -1px;overflow: hidden;padding: 0;position: absolute;width: 1px;}#sk-container-id-4 div.sk-estimator {font-family: monospace;background-color: #f0f8ff;border: 1px dotted black;border-radius: 0.25em;box-sizing: border-box;margin-bottom: 0.5em;}#sk-container-id-4 div.sk-estimator:hover {background-color: #d4ebff;}#sk-container-id-4 div.sk-parallel-item::after {content: \"\";width: 100%;border-bottom: 1px solid gray;flex-grow: 1;}#sk-container-id-4 div.sk-label:hover label.sk-toggleable__label {background-color: #d4ebff;}#sk-container-id-4 div.sk-serial::before {content: \"\";position: absolute;border-left: 1px solid gray;box-sizing: border-box;top: 0;bottom: 0;left: 50%;z-index: 0;}#sk-container-id-4 div.sk-serial {display: flex;flex-direction: column;align-items: center;background-color: white;padding-right: 0.2em;padding-left: 0.2em;position: relative;}#sk-container-id-4 div.sk-item {position: relative;z-index: 1;}#sk-container-id-4 div.sk-parallel {display: flex;align-items: stretch;justify-content: center;background-color: white;position: relative;}#sk-container-id-4 div.sk-item::before, #sk-container-id-4 div.sk-parallel-item::before {content: \"\";position: absolute;border-left: 1px solid gray;box-sizing: border-box;top: 0;bottom: 0;left: 50%;z-index: -1;}#sk-container-id-4 div.sk-parallel-item {display: flex;flex-direction: column;z-index: 1;position: relative;background-color: white;}#sk-container-id-4 div.sk-parallel-item:first-child::after {align-self: flex-end;width: 50%;}#sk-container-id-4 div.sk-parallel-item:last-child::after {align-self: flex-start;width: 50%;}#sk-container-id-4 div.sk-parallel-item:only-child::after {width: 0;}#sk-container-id-4 div.sk-dashed-wrapped {border: 1px dashed gray;margin: 0 0.4em 0.5em 0.4em;box-sizing: border-box;padding-bottom: 0.4em;background-color: white;}#sk-container-id-4 div.sk-label label {font-family: monospace;font-weight: bold;display: inline-block;line-height: 1.2em;}#sk-container-id-4 div.sk-label-container {text-align: center;}#sk-container-id-4 div.sk-container {/* jupyter's `normalize.less` sets `[hidden] { display: none; }` but bootstrap.min.css set `[hidden] { display: none !important; }` so we also need the `!important` here to be able to override the default hidden behavior on the sphinx rendered scikit-learn.org. See: https://github.com/scikit-learn/scikit-learn/issues/21755 */display: inline-block !important;position: relative;}#sk-container-id-4 div.sk-text-repr-fallback {display: none;}</style><div id=\"sk-container-id-4\" class=\"sk-top-container\"><div class=\"sk-text-repr-fallback\"><pre>RandomForestClassifier(max_depth=7)</pre><b>In a Jupyter environment, please rerun this cell to show the HTML representation or trust the notebook. <br />On GitHub, the HTML representation is unable to render, please try loading this page with nbviewer.org.</b></div><div class=\"sk-container\" hidden><div class=\"sk-item\"><div class=\"sk-estimator sk-toggleable\"><input class=\"sk-toggleable__control sk-hidden--visually\" id=\"sk-estimator-id-4\" type=\"checkbox\" checked><label for=\"sk-estimator-id-4\" class=\"sk-toggleable__label sk-toggleable__label-arrow\">RandomForestClassifier</label><div class=\"sk-toggleable__content\"><pre>RandomForestClassifier(max_depth=7)</pre></div></div></div></div></div>"
            ]
          },
          "metadata": {},
          "execution_count": 132
        }
      ],
      "source": [
        "from sklearn.ensemble import RandomForestClassifier\n",
        "rf = RandomForestClassifier(n_estimators= 100, max_depth = 7, max_features='sqrt')\n",
        "rf.fit(X_smt,y_smt)"
      ]
    },
    {
      "cell_type": "code",
      "execution_count": 133,
      "metadata": {
        "colab": {
          "base_uri": "https://localhost:8080/"
        },
        "id": "XzGtyuVMI4FD",
        "outputId": "69a769a9-59c4-4197-b5b8-0ad85b6af62f"
      },
      "outputs": [
        {
          "output_type": "execute_result",
          "data": {
            "text/plain": [
              "array([1, 0, 0, ..., 0, 0, 0])"
            ]
          },
          "metadata": {},
          "execution_count": 133
        }
      ],
      "source": [
        "rf_y_pred = rf.predict(X_test)\n",
        "rf_y_pred"
      ]
    },
    {
      "cell_type": "code",
      "source": [
        "from sklearn.metrics import roc_auc_score\n",
        "rf_log = roc_auc_score(y_test, rf.predict_proba(X_test)[:, 1])\n",
        "print(\"The AUROC Score of Random Forest classifier model\",rf_log)"
      ],
      "metadata": {
        "colab": {
          "base_uri": "https://localhost:8080/"
        },
        "id": "cpwJRzehuCjE",
        "outputId": "e9ea1583-fd91-449e-9283-a258655dc4b9"
      },
      "execution_count": 134,
      "outputs": [
        {
          "output_type": "stream",
          "name": "stdout",
          "text": [
            "The AUROC Score of Random Forest classifier model 0.9003327801014318\n"
          ]
        }
      ]
    },
    {
      "cell_type": "code",
      "execution_count": 135,
      "metadata": {
        "colab": {
          "base_uri": "https://localhost:8080/",
          "height": 302
        },
        "id": "Vkq0QvN3I4JR",
        "outputId": "6d26a9bc-345a-414a-d6f3-b926a66a6d63"
      },
      "outputs": [
        {
          "output_type": "execute_result",
          "data": {
            "text/plain": [
              "<sklearn.metrics._plot.roc_curve.RocCurveDisplay at 0x7fd4a56363d0>"
            ]
          },
          "metadata": {},
          "execution_count": 135
        },
        {
          "output_type": "display_data",
          "data": {
            "text/plain": [
              "<Figure size 432x288 with 1 Axes>"
            ],
            "image/png": "[encoded data removed]"
          },
          "metadata": {}
        }
      ],
      "source": [
        "#plotting ROC Curve\n",
        "RocCurveDisplay.from_estimator(rf, X_test, y_test)"
      ]
    },
    {
      "cell_type": "code",
      "source": [
        "print(classification_report(y_test,rf_y_pred))"
      ],
      "metadata": {
        "colab": {
          "base_uri": "https://localhost:8080/"
        },
        "id": "GjyCWlrE2CCC",
        "outputId": "f9fd741b-0aeb-4c0d-bd27-d65dbf844633"
      },
      "execution_count": 136,
      "outputs": [
        {
          "output_type": "stream",
          "name": "stdout",
          "text": [
            "              precision    recall  f1-score   support\n",
            "\n",
            "           0       0.98      0.81      0.88      7935\n",
            "           1       0.37      0.86      0.52      1049\n",
            "\n",
            "    accuracy                           0.81      8984\n",
            "   macro avg       0.67      0.83      0.70      8984\n",
            "weighted avg       0.91      0.81      0.84      8984\n",
            "\n"
          ]
        }
      ]
    },
    {
      "cell_type": "code",
      "source": [
        "#visualizing confusion matrix\n",
        "cm = confusion_matrix(y_test, rf_y_pred)\n",
        "f = sns.heatmap(cm, annot=True, fmt='d')"
      ],
      "metadata": {
        "colab": {
          "base_uri": "https://localhost:8080/",
          "height": 268
        },
        "id": "NSueXImD11vN",
        "outputId": "f02f5256-7fdd-4fe0-89ff-4497a94972b9"
      },
      "execution_count": 137,
      "outputs": [
        {
          "output_type": "display_data",
          "data": {
            "text/plain": [
              "<Figure size 432x288 with 2 Axes>"
            ],
            "image/png": "[encoded data removed]"
          },
          "metadata": {}
        }
      ]
    },
    {
      "cell_type": "markdown",
      "metadata": {
        "id": "F_hDa6U9Qzwc"
      },
      "source": [
        "**XG Boost**"
      ]
    },
    {
      "cell_type": "code",
      "execution_count": 138,
      "metadata": {
        "colab": {
          "base_uri": "https://localhost:8080/"
        },
        "id": "m092RZpWKo-d",
        "outputId": "39b78787-5c2c-4472-da31-75e672494f17"
      },
      "outputs": [
        {
          "output_type": "stream",
          "name": "stdout",
          "text": [
            "Learning rate :  0.01  Train score :  0.8126513232961344  Cross-Val score :  0.9021232700510063\n",
            "Learning rate :  0.02  Train score :  0.8277071215873988  Cross-Val score :  0.902540740737299\n",
            "Learning rate :  0.03  Train score :  0.8395346895611276  Cross-Val score :  0.9023459407018006\n",
            "Learning rate :  0.04  Train score :  0.8505830295271756  Cross-Val score :  0.9032642538566223\n",
            "Learning rate :  0.05  Train score :  0.8587927531795285  Cross-Val score :  0.9029303175763298\n",
            "Learning rate :  0.06  Train score :  0.8683104667019175  Cross-Val score :  0.9037374425415399\n",
            "Learning rate :  0.07  Train score :  0.8742659950463363  Cross-Val score :  0.9048506099397811\n",
            "Learning rate :  0.08  Train score :  0.8801102051039434  Cross-Val score :  0.9046558873441697\n",
            "Learning rate :  0.09  Train score :  0.8807781148248128  Cross-Val score :  0.9046836805195783\n",
            "Learning rate :  0.1  Train score :  0.8851751871538697  Cross-Val score :  0.903932281296982\n",
            "Learning rate :  0.11  Train score :  0.8869562797428547  Cross-Val score :  0.9041270503565256\n",
            "Learning rate :  0.12  Train score :  0.8887930314752456  Cross-Val score :  0.9048784263471559\n",
            "Learning rate :  0.13  Train score :  0.889961873486767  Cross-Val score :  0.9044889346920006\n",
            "Learning rate :  0.14  Train score :  0.8910193972114769  Cross-Val score :  0.9039322425770384\n",
            "Learning rate :  0.15  Train score :  0.8936075473798458  Cross-Val score :  0.9048784186031671\n",
            "Learning rate :  0.2  Train score :  0.8970305846993015  Cross-Val score :  0.9034591545639739\n",
            "Learning rate :  0.5  Train score :  0.9133943728606017  Cross-Val score :  0.903013813262386\n",
            "Learning rate :  0.7  Train score :  0.9150919767344781  Cross-Val score :  0.8981159107836746\n",
            "Learning rate :  1  Train score :  0.917429660757521  Cross-Val score :  0.8927171116285129\n"
          ]
        }
      ],
      "source": [
        "import xgboost as xgb\n",
        "for lr in [0.01,0.02,0.03,0.04,0.05,0.06,0.07,0.08,0.09,0.1,0.11,0.12,0.13,0.14,0.15,0.2,0.5,0.7,1]:\n",
        "  model = xgb.XGBClassifier(learning_rate = lr, n_estimators=100, verbosity = 0) # initialise the model\n",
        "  model.fit(X_smt,y_smt) #train the model\n",
        "  print(\"Learning rate : \", lr, \" Train score : \", model.score(X_train,y_train), \" Cross-Val score : \", np.mean(cross_val_score(model, X_train, y_train, cv=10)))"
      ]
    },
    {
      "cell_type": "code",
      "execution_count": 139,
      "metadata": {
        "colab": {
          "base_uri": "https://localhost:8080/",
          "height": 248
        },
        "id": "oROJabvWSXHx",
        "outputId": "fe46937e-2e9f-45f4-8927-e1ada6b23067"
      },
      "outputs": [
        {
          "output_type": "execute_result",
          "data": {
            "text/plain": [
              "XGBClassifier(base_score=None, booster=None, callbacks=None,\n",
              "              colsample_bylevel=None, colsample_bynode=None,\n",
              "              colsample_bytree=None, early_stopping_rounds=None,\n",
              "              enable_categorical=False, eval_metric=None, feature_types=None,\n",
              "              gamma=None, gpu_id=None, grow_policy=None, importance_type=None,\n",
              "              interaction_constraints=None, learning_rate=0.5, max_bin=None,\n",
              "              max_cat_threshold=None, max_cat_to_onehot=None,\n",
              "              max_delta_step=None, max_depth=None, max_leaves=None,\n",
              "              min_child_weight=None, missing=nan, monotone_constraints=None,\n",
              "              n_estimators=100, n_jobs=None, num_parallel_tree=None,\n",
              "              predictor=None, random_state=None, ...)"
            ],
            "text/html": [
              "<style>#sk-container-id-5 {color: black;background-color: white;}#sk-container-id-5 pre{padding: 0;}#sk-container-id-5 div.sk-toggleable {background-color: white;}#sk-container-id-5 label.sk-toggleable__label {cursor: pointer;display: block;width: 100%;margin-bottom: 0;padding: 0.3em;box-sizing: border-box;text-align: center;}#sk-container-id-5 label.sk-toggleable__label-arrow:before {content: \"▸\";float: left;margin-right: 0.25em;color: #696969;}#sk-container-id-5 label.sk-toggleable__label-arrow:hover:before {color: black;}#sk-container-id-5 div.sk-estimator:hover label.sk-toggleable__label-arrow:before {color: black;}#sk-container-id-5 div.sk-toggleable__content {max-height: 0;max-width: 0;overflow: hidden;text-align: left;background-color: #f0f8ff;}#sk-container-id-5 div.sk-toggleable__content pre {margin: 0.2em;color: black;border-radius: 0.25em;background-color: #f0f8ff;}#sk-container-id-5 input.sk-toggleable__control:checked~div.sk-toggleable__content {max-height: 200px;max-width: 100%;overflow: auto;}#sk-container-id-5 input.sk-toggleable__control:checked~label.sk-toggleable__label-arrow:before {content: \"▾\";}#sk-container-id-5 div.sk-estimator input.sk-toggleable__control:checked~label.sk-toggleable__label {background-color: #d4ebff;}#sk-container-id-5 div.sk-label input.sk-toggleable__control:checked~label.sk-toggleable__label {background-color: #d4ebff;}#sk-container-id-5 input.sk-hidden--visually {border: 0;clip: rect(1px 1px 1px 1px);clip: rect(1px, 1px, 1px, 1px);height: 1px;margin: -1px;overflow: hidden;padding: 0;position: absolute;width: 1px;}#sk-container-id-5 div.sk-estimator {font-family: monospace;background-color: #f0f8ff;border: 1px dotted black;border-radius: 0.25em;box-sizing: border-box;margin-bottom: 0.5em;}#sk-container-id-5 div.sk-estimator:hover {background-color: #d4ebff;}#sk-container-id-5 div.sk-parallel-item::after {content: \"\";width: 100%;border-bottom: 1px solid gray;flex-grow: 1;}#sk-container-id-5 div.sk-label:hover label.sk-toggleable__label {background-color: #d4ebff;}#sk-container-id-5 div.sk-serial::before {content: \"\";position: absolute;border-left: 1px solid gray;box-sizing: border-box;top: 0;bottom: 0;left: 50%;z-index: 0;}#sk-container-id-5 div.sk-serial {display: flex;flex-direction: column;align-items: center;background-color: white;padding-right: 0.2em;padding-left: 0.2em;position: relative;}#sk-container-id-5 div.sk-item {position: relative;z-index: 1;}#sk-container-id-5 div.sk-parallel {display: flex;align-items: stretch;justify-content: center;background-color: white;position: relative;}#sk-container-id-5 div.sk-item::before, #sk-container-id-5 div.sk-parallel-item::before {content: \"\";position: absolute;border-left: 1px solid gray;box-sizing: border-box;top: 0;bottom: 0;left: 50%;z-index: -1;}#sk-container-id-5 div.sk-parallel-item {display: flex;flex-direction: column;z-index: 1;position: relative;background-color: white;}#sk-container-id-5 div.sk-parallel-item:first-child::after {align-self: flex-end;width: 50%;}#sk-container-id-5 div.sk-parallel-item:last-child::after {align-self: flex-start;width: 50%;}#sk-container-id-5 div.sk-parallel-item:only-child::after {width: 0;}#sk-container-id-5 div.sk-dashed-wrapped {border: 1px dashed gray;margin: 0 0.4em 0.5em 0.4em;box-sizing: border-box;padding-bottom: 0.4em;background-color: white;}#sk-container-id-5 div.sk-label label {font-family: monospace;font-weight: bold;display: inline-block;line-height: 1.2em;}#sk-container-id-5 div.sk-label-container {text-align: center;}#sk-container-id-5 div.sk-container {/* jupyter's `normalize.less` sets `[hidden] { display: none; }` but bootstrap.min.css set `[hidden] { display: none !important; }` so we also need the `!important` here to be able to override the default hidden behavior on the sphinx rendered scikit-learn.org. See: https://github.com/scikit-learn/scikit-learn/issues/21755 */display: inline-block !important;position: relative;}#sk-container-id-5 div.sk-text-repr-fallback {display: none;}</style><div id=\"sk-container-id-5\" class=\"sk-top-container\"><div class=\"sk-text-repr-fallback\"><pre>XGBClassifier(base_score=None, booster=None, callbacks=None,\n",
              "              colsample_bylevel=None, colsample_bynode=None,\n",
              "              colsample_bytree=None, early_stopping_rounds=None,\n",
              "              enable_categorical=False, eval_metric=None, feature_types=None,\n",
              "              gamma=None, gpu_id=None, grow_policy=None, importance_type=None,\n",
              "              interaction_constraints=None, learning_rate=0.5, max_bin=None,\n",
              "              max_cat_threshold=None, max_cat_to_onehot=None,\n",
              "              max_delta_step=None, max_depth=None, max_leaves=None,\n",
              "              min_child_weight=None, missing=nan, monotone_constraints=None,\n",
              "              n_estimators=100, n_jobs=None, num_parallel_tree=None,\n",
              "              predictor=None, random_state=None, ...)</pre><b>In a Jupyter environment, please rerun this cell to show the HTML representation or trust the notebook. <br />On GitHub, the HTML representation is unable to render, please try loading this page with nbviewer.org.</b></div><div class=\"sk-container\" hidden><div class=\"sk-item\"><div class=\"sk-estimator sk-toggleable\"><input class=\"sk-toggleable__control sk-hidden--visually\" id=\"sk-estimator-id-5\" type=\"checkbox\" checked><label for=\"sk-estimator-id-5\" class=\"sk-toggleable__label sk-toggleable__label-arrow\">XGBClassifier</label><div class=\"sk-toggleable__content\"><pre>XGBClassifier(base_score=None, booster=None, callbacks=None,\n",
              "              colsample_bylevel=None, colsample_bynode=None,\n",
              "              colsample_bytree=None, early_stopping_rounds=None,\n",
              "              enable_categorical=False, eval_metric=None, feature_types=None,\n",
              "              gamma=None, gpu_id=None, grow_policy=None, importance_type=None,\n",
              "              interaction_constraints=None, learning_rate=0.5, max_bin=None,\n",
              "              max_cat_threshold=None, max_cat_to_onehot=None,\n",
              "              max_delta_step=None, max_depth=None, max_leaves=None,\n",
              "              min_child_weight=None, missing=nan, monotone_constraints=None,\n",
              "              n_estimators=100, n_jobs=None, num_parallel_tree=None,\n",
              "              predictor=None, random_state=None, ...)</pre></div></div></div></div></div>"
            ]
          },
          "metadata": {},
          "execution_count": 139
        }
      ],
      "source": [
        "#fitting the model\n",
        "xg_model = xgb.XGBClassifier(learning_rate = 0.5, n_estimators=100)\n",
        "xg_model.fit(X_smt,y_smt)"
      ]
    },
    {
      "cell_type": "code",
      "execution_count": 140,
      "metadata": {
        "colab": {
          "base_uri": "https://localhost:8080/"
        },
        "id": "wKltN2SQScdt",
        "outputId": "1038d282-1105-4300-a962-dc7412c49d2e"
      },
      "outputs": [
        {
          "output_type": "execute_result",
          "data": {
            "text/plain": [
              "array([1, 1, 0, ..., 0, 0, 0])"
            ]
          },
          "metadata": {},
          "execution_count": 140
        }
      ],
      "source": [
        "xg_y_pred = xg_model.predict(X_test)\n",
        "xg_y_pred"
      ]
    },
    {
      "cell_type": "code",
      "source": [
        "from sklearn.metrics import roc_auc_score\n",
        "xg_log = roc_auc_score(y_test, xg_model.predict_proba(X_test)[:, 1])\n",
        "print(\"The AUROC Score of XG boost model\",xg_log)"
      ],
      "metadata": {
        "colab": {
          "base_uri": "https://localhost:8080/"
        },
        "id": "yKR5UD4zzYVj",
        "outputId": "5e846166-d2b4-44ab-8676-d43793cee3f0"
      },
      "execution_count": 141,
      "outputs": [
        {
          "output_type": "stream",
          "name": "stdout",
          "text": [
            "The AUROC Score of XG boost model 0.9149038031239282\n"
          ]
        }
      ]
    },
    {
      "cell_type": "code",
      "execution_count": 142,
      "metadata": {
        "colab": {
          "base_uri": "https://localhost:8080/",
          "height": 302
        },
        "id": "3iouMIknScgi",
        "outputId": "05f4e5a6-576e-442f-92e4-3dcf40327344"
      },
      "outputs": [
        {
          "output_type": "execute_result",
          "data": {
            "text/plain": [
              "<sklearn.metrics._plot.roc_curve.RocCurveDisplay at 0x7fd49e9f7e50>"
            ]
          },
          "metadata": {},
          "execution_count": 142
        },
        {
          "output_type": "display_data",
          "data": {
            "text/plain": [
              "<Figure size 432x288 with 1 Axes>"
            ],
            "image/png": "[encoded data removed]"
          },
          "metadata": {}
        }
      ],
      "source": [
        "#plotting ROC Curve\n",
        "RocCurveDisplay.from_estimator(xg_model, X_test, y_test)"
      ]
    },
    {
      "cell_type": "code",
      "source": [
        "print(classification_report(y_test,xg_y_pred))"
      ],
      "metadata": {
        "colab": {
          "base_uri": "https://localhost:8080/"
        },
        "id": "1uvj-IuV2MIW",
        "outputId": "effcc374-cfda-46ec-a852-cd6ac856a83b"
      },
      "execution_count": 143,
      "outputs": [
        {
          "output_type": "stream",
          "name": "stdout",
          "text": [
            "              precision    recall  f1-score   support\n",
            "\n",
            "           0       0.97      0.89      0.93      7935\n",
            "           1       0.48      0.77      0.59      1049\n",
            "\n",
            "    accuracy                           0.88      8984\n",
            "   macro avg       0.72      0.83      0.76      8984\n",
            "weighted avg       0.91      0.88      0.89      8984\n",
            "\n"
          ]
        }
      ]
    },
    {
      "cell_type": "code",
      "source": [
        "#visualizing confusion matrix\n",
        "cm = confusion_matrix(y_test,xg_y_pred)\n",
        "f = sns.heatmap(cm, annot=True, fmt='d')"
      ],
      "metadata": {
        "colab": {
          "base_uri": "https://localhost:8080/",
          "height": 270
        },
        "id": "d8JfZGGF2OrV",
        "outputId": "5c42bd87-43bd-452e-ce27-0c64c2376784"
      },
      "execution_count": 144,
      "outputs": [
        {
          "output_type": "display_data",
          "data": {
            "text/plain": [
              "<Figure size 432x288 with 2 Axes>"
            ],
            "image/png": "[encoded data removed]"
          },
          "metadata": {}
        }
      ]
    },
    {
      "cell_type": "markdown",
      "source": [
        "# Feature Importances"
      ],
      "metadata": {
        "id": "Y31GtB7H2Utb"
      }
    },
    {
      "cell_type": "code",
      "execution_count": 145,
      "metadata": {
        "id": "su6WEzzkadXN"
      },
      "outputs": [],
      "source": [
        "importances = list(rf.feature_importances_)\n",
        "feature_importances = [(feature, round(importance, 2)) for feature, importance in zip(o_feature.columns, importances)]\n",
        "feature_importances = sorted(feature_importances, key = lambda x: x[1], reverse = True)\n",
        "\n",
        "feature_imp_dict = {'features':[],'importance':[]}\n",
        "for pair,value in feature_importances:\n",
        "  feature_imp_dict['features'].append(pair)\n",
        "  feature_imp_dict['importance'].append(value)\n",
        "feature_imp_df = pd.DataFrame(feature_imp_dict)\n",
        "feature_imp_df = feature_imp_df.loc[0:6]"
      ]
    },
    {
      "cell_type": "code",
      "execution_count": 146,
      "metadata": {
        "colab": {
          "base_uri": "https://localhost:8080/",
          "height": 410
        },
        "id": "phhLaP4hbMgq",
        "outputId": "57038d76-7b10-4bb1-dd4b-750aeeef9ec3"
      },
      "outputs": [
        {
          "output_type": "display_data",
          "data": {
            "text/plain": [
              "<Figure size 576x432 with 1 Axes>"
            ],
            "image/png": "[encoded data removed]"
          },
          "metadata": {}
        }
      ],
      "source": [
        "fig, ax = plt.subplots(figsize=(8, 6))\n",
        "sns.barplot(y=feature_imp_df['features'], x=feature_imp_df['importance'],orient='horizonal', ax=ax)\n",
        "plt.xlabel('Feature Importance Score')\n",
        "plt.ylabel('Features')\n",
        "plt.title(\"Visualizing Important Features\")\n",
        "plt.show()"
      ]
    },
    {
      "cell_type": "markdown",
      "source": [
        "# Saving the Model for Deployment"
      ],
      "metadata": {
        "id": "tvWcZ0c34yU3"
      }
    },
    {
      "cell_type": "code",
      "source": [
        "\n",
        "import pickle\n",
        "filename = \"XGB_model\"\n",
        "pickle.dump(xg_model, open(filename, \"wb\"))#getting Good AUROC score in Xg Boost Model-Saving that model for deployment"
      ],
      "metadata": {
        "id": "n8Hiq7hW2r-B"
      },
      "execution_count": 147,
      "outputs": []
    },
    {
      "cell_type": "code",
      "source": [
        "#installing streamlit\n",
        "!pip install -q streamlit"
      ],
      "metadata": {
        "id": "dPA2i6X3-yx5"
      },
      "execution_count": null,
      "outputs": []
    },
    {
      "cell_type": "code",
      "source": [
        "!pip install streamlit-lottie\n",
        "!pip install requests"
      ],
      "metadata": {
        "id": "PqKNBDe1_k4a"
      },
      "execution_count": null,
      "outputs": []
    },
    {
      "cell_type": "code",
      "source": [
        "%%writefile app.py\n",
        "#importing libraries\n",
        "import pickle\n",
        "import streamlit as st\n",
        "import pandas as pd\n",
        "import numpy as np\n",
        "import requests\n",
        "from streamlit_lottie import st_lottie\n",
        "\n",
        "#loading model\n",
        "loaded_model = pickle.load(open(\"XGB_model\", \"rb\"))\n",
        "\n",
        "#page configuration\n",
        "st.set_page_config(page_title='Customer_Conversion', page_icon=':moneybag:', layout='wide')\n",
        "\n",
        "#Animations \n",
        "def load_lottieur(url):\n",
        "    r = requests.get(url)\n",
        "    if r.status_code != 200:\n",
        "        return None\n",
        "    return r.json()  \n",
        "lottie_coding = load_lottieur(\"https://assets8.lottiefiles.com/packages/lf20_v3jtadhg.json\")  \n",
        "lottie_coding_1 = load_lottieur(\"https://assets7.lottiefiles.com/packages/lf20_bkqasnam.json\")\n",
        "lottie_coding_2 = load_lottieur(\"https://assets6.lottiefiles.com/private_files/lf30_djxonzns.json\")\n",
        "\n",
        "#title \n",
        "left_column,right_column = st.columns(2)\n",
        "with left_column:\n",
        "    st.title(\":blue[_ABC LIFE INSURANCE_]\")\n",
        "    st.subheader(\":red[_Customer Conversion Predictor_]\")\n",
        "\n",
        "with right_column:\n",
        "    st_lottie(lottie_coding,height=150, key='codings')\n",
        "\n",
        "\n",
        "#encoding categorical columns  \n",
        "\n",
        "job_encoded = {'student':10,\n",
        "              'retired': 9,\n",
        "              'unemployed': 8,\n",
        "              'management': 7,\n",
        "              'admin': 6, \n",
        "              'self-employed': 5, \n",
        "              'technician': 4,\n",
        "              'services': 3,\n",
        "              'housemaid': 2,\n",
        "              'entrepreneur': 1, \n",
        "              'blue-collar': 0}\n",
        "\n",
        "marital_encoded = {'single':2,\n",
        "                   'divorced':1,\n",
        "                   'married':0}\n",
        "\n",
        "education_qual_encoded = {'tertiary':3,\n",
        "                          'unknown':2,\n",
        "                          'secondary':1,\n",
        "                          'primary':0}\n",
        "\n",
        "month_encoded = {'mar': 11, \n",
        "                 'dec': 10,\n",
        "                 'sep': 9,\n",
        "                 'oct': 8,\n",
        "                 'apr': 7,\n",
        "                 'feb': 6,\n",
        "                 'aug': 5,\n",
        "                 'jun': 4,\n",
        "                 'nov': 3,\n",
        "                 'jan': 2,                                                       \n",
        "                 'jul': 1,                             \n",
        "                 'may':0}\n",
        "\n",
        "y = {'yes':1, 'no':0}\n",
        "\n",
        "call_type_encoded = {'cellular':2,\n",
        "                     'telephone':1,\n",
        "                     'unknown':0}\n",
        "\n",
        "\n",
        "prev_outcome_encoded = {'success':3,\n",
        "                        'other':2,\n",
        "                        'failure':1,\n",
        "                        'unknown':0}\n",
        "\n",
        "Y = {1 : \"Purchase Insurance\", 0 : \"not Purchase Insurance \"}\n",
        "\n",
        "\n",
        "\n",
        "def main():\n",
        "    \n",
        "    Age = st.slider(\"Select the Age of person\",0,100,25)\n",
        "   \n",
        "    Marital_status = st.selectbox(\"Select Marital Status of person\",[\"Married\",\"Single\",\"Divorced\"])\n",
        "    Marital_status = Marital_status.lower()\n",
        "    \n",
        "    Job =  st.selectbox(\"Select Occupation of the person\",['Management', 'Technician', 'Entrepreneur', 'Blue-collar', 'Retired', \n",
        "                                             'Admin', 'Services', 'Self-employed', 'Unemployed', 'Housemaid', 'Student'])\n",
        "    Job = Job.lower()\n",
        "    \n",
        "    Education = st.selectbox(\"Select Educational Qualification\", [\"Tertiary\", \"Secondary\", \"Primary\", \"Unknown\"])\n",
        "    Education = Education.lower()\n",
        "    \n",
        "    Month = st.selectbox(\"Last Contacted Month\", [\"January\", \"February\", \"March\", \"April\" , \"May\", \"June\", \n",
        "                                                  \"July\", \"August\" , \"September\" , \"October\", 'November', 'December'])\n",
        "    Month = Month[:3].lower()\n",
        "    \n",
        "    Day = st.slider(\"Select the date of the month\",0,30,15)\n",
        "    \n",
        "    \n",
        "    call_types = st.selectbox(\"Select last call type\", [\"Cellular\", \"Telephone\",'Unknown'])\n",
        "    call_types = call_types.lower()\n",
        "    \n",
        "    \n",
        "    \n",
        "    Duration = st.slider(\"Select the Duration of the call\",0,1000,100)\n",
        "    \n",
        "    Total_calls = st.slider(\"Select the Number of times you called\",0,20,3)\n",
        "    \n",
        "    previous_outcome = st.selectbox(\"Select Previous response\",['Unknown', 'Failure', 'Other', 'Success'])\n",
        "    previous_outcome = previous_outcome.lower()\n",
        "    \n",
        "    if st.button(\"Predict\"):\n",
        "        \n",
        "        age = Age\n",
        "        \n",
        "        job = job_encoded[Job]\n",
        "        \n",
        "        marital = marital_encoded[Marital_status]\n",
        "        \n",
        "        education_qual = education_qual_encoded[Education]\n",
        "        \n",
        "        call_type = call_type_encoded[call_types]\n",
        "        \n",
        "        day = Day\n",
        "        \n",
        "        mon = month_encoded[Month]\n",
        "        \n",
        "        dur = Duration\n",
        "        \n",
        "        num_calls = Total_calls\n",
        "        \n",
        "        prev_outcome = prev_outcome_encoded[previous_outcome]\n",
        "        \n",
        "        input_values = [age,job,marital,education_qual,call_type,day,mon,dur,num_calls,prev_outcome]\n",
        "        input_array = np.array([input_values])\n",
        "        result = loaded_model.predict(input_array)\n",
        "        result_1 = Y[int(result[0])]\n",
        "        st.write(\"Based on the given inputs above mentioned person will \",result_1)\n",
        "        \n",
        "        if result[0] == 1:\n",
        "          st_lottie(lottie_coding_1,height=300, key='codings1')\n",
        "        elif result[0] == 0:\n",
        "          st_lottie(lottie_coding_2,height=300, key='codings2')\n",
        "        \n",
        "\n",
        "if __name__ == \"__main__\":\n",
        "  main()\n"
      ],
      "metadata": {
        "colab": {
          "base_uri": "https://localhost:8080/"
        },
        "id": "o-HRZyOB-H82",
        "outputId": "4c50515e-8bee-4037-9abb-85e8eaf669be"
      },
      "execution_count": 150,
      "outputs": [
        {
          "output_type": "stream",
          "name": "stdout",
          "text": [
            "Writing app.py\n"
          ]
        }
      ]
    },
    {
      "cell_type": "code",
      "source": [
        "!npm install localtunnel"
      ],
      "metadata": {
        "colab": {
          "base_uri": "https://localhost:8080/"
        },
        "id": "aj2iCEUE_AM5",
        "outputId": "cb4d8728-9d79-4c5e-9bbf-83649ae8d979"
      },
      "execution_count": 151,
      "outputs": [
        {
          "output_type": "stream",
          "name": "stdout",
          "text": [
            "\u001b[K\u001b[?25h\u001b[37;40mnpm\u001b[0m \u001b[0m\u001b[30;43mWARN\u001b[0m \u001b[0m\u001b[35msaveError\u001b[0m ENOENT: no such file or directory, open '/content/package.json'\n",
            "\u001b[K\u001b[?25h\u001b[37;40mnpm\u001b[0m \u001b[0m\u001b[34;40mnotice\u001b[0m\u001b[35m\u001b[0m created a lockfile as package-lock.json. You should commit this file.\n",
            "\u001b[0m\u001b[37;40mnpm\u001b[0m \u001b[0m\u001b[30;43mWARN\u001b[0m \u001b[0m\u001b[35menoent\u001b[0m ENOENT: no such file or directory, open '/content/package.json'\n",
            "\u001b[0m\u001b[37;40mnpm\u001b[0m \u001b[0m\u001b[30;43mWARN\u001b[0m\u001b[35m\u001b[0m content No description\n",
            "\u001b[0m\u001b[37;40mnpm\u001b[0m \u001b[0m\u001b[30;43mWARN\u001b[0m\u001b[35m\u001b[0m content No repository field.\n",
            "\u001b[0m\u001b[37;40mnpm\u001b[0m \u001b[0m\u001b[30;43mWARN\u001b[0m\u001b[35m\u001b[0m content No README data\n",
            "\u001b[0m\u001b[37;40mnpm\u001b[0m \u001b[0m\u001b[30;43mWARN\u001b[0m\u001b[35m\u001b[0m content No license field.\n",
            "\u001b[0m\n",
            "+ localtunnel@2.0.2\n",
            "added 22 packages from 22 contributors and audited 22 packages in 3.905s\n",
            "\n",
            "3 packages are looking for funding\n",
            "  run `npm fund` for details\n",
            "\n",
            "found \u001b[92m0\u001b[0m vulnerabilities\n",
            "\n",
            "\u001b[K\u001b[?25h"
          ]
        }
      ]
    },
    {
      "cell_type": "code",
      "source": [
        "!streamlit run /content/app.py &>/content/logs.txt &"
      ],
      "metadata": {
        "id": "g1tQvtWN_ASh"
      },
      "execution_count": 152,
      "outputs": []
    },
    {
      "cell_type": "code",
      "source": [
        "!npx localtunnel --port 8501"
      ],
      "metadata": {
        "colab": {
          "base_uri": "https://localhost:8080/"
        },
        "id": "ftBg_RoE_AYJ",
        "outputId": "b5f696f5-2287-419e-ac25-26e47ce87c1c"
      },
      "execution_count": 153,
      "outputs": [
        {
          "output_type": "stream",
          "name": "stdout",
          "text": [
            "\u001b[K\u001b[?25hnpx: installed 22 in 3.41s\n",
            "your url is: https://fair-mirrors-cut-35-199-150-124.loca.lt\n",
            "^C\n"
          ]
        }
      ]
    }
  ],
  "metadata": {
    "colab": {
      "provenance": [],
      "authorship_tag": "ABX9TyNDdP0wjfYI6mURXyx80XOM",
      "include_colab_link": true
    },
    "kernelspec": {
      "display_name": "Python 3",
      "name": "python3"
    },
    "language_info": {
      "name": "python"
    }
  },
  "nbformat": 4,
  "nbformat_minor": 0
}